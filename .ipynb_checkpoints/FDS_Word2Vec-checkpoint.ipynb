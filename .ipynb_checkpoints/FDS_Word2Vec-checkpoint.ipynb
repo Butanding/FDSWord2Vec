{
 "cells": [
  {
   "cell_type": "markdown",
   "metadata": {},
   "source": [
    "# Ausgewählte Kapitel sozial Webtechnologien - Neuronale Netze\n",
    "## Trainieren eines Word2Vec Modells und Darstellung von Wort- und Dokumentenvektoren anhand von Anfragetexten des FragDenStaat-Projektes\n",
    "\n",
    "Bearbeiten von:\n",
    "* Sebastian Jüngling (558556)\n",
    "* Konstantin Bruckert (558290)\n",
    "\n",
    "Prüfer:\n",
    "* Benjamin Voigt"
   ]
  },
  {
   "cell_type": "markdown",
   "metadata": {},
   "source": [
    "# Einleitung\n",
    "Über das FragDenStaat-Portal werden Anfragen an Behörden in Deutschland gesammelt und zur Verfügung gestellt. Durch die stetig wachsende Popularität des Portals liegt diesem Projekt ein umfangreicher Datensatz vor, dessen Informationsgehalt im Laufe dieses Notebooks mithilfe eines Word2Vec Modells möglichst weit ausgeschöpft werden soll.\n",
    "\n",
    "**Grober Ablauf**<br>\n",
    "Zunächst werden die bereits bereinigten Daten für die Weiterverarbeitung aufbereitet und randomisiert. Tatsächliche Input-Daten werden daraufhin durch die Indexierung und Speicherung in Lookup-Tables generiert. Mithilfe von Context-Windows können nun Target-Label Paare aus Daten abgeleitet und für alle Sätze erzeugt werden. Das eigentliche Training innerhalb des Notebooks findet dann mithilfe eines Skip-Gram Modells statt, welches in sequenziellen Batches über mehrere Epochen hinweg die Word-Emebddings trainiert. Die daraus resultierenden Word-Embeddings können nun genutzt werden, um Dokumenten-Vektoren aufzubauen und diese oder auch einfache Wort-Vektoren dann mithilfe der Cosine-Similarity zu vergleichen. Abschließend wird versucht, die Word-Embeddings in verschieden Arten und unter Zuhilfenahme des t-SNE Dimensionsreduktionsverfahrens zu visualisieren bzw. Ähnlichkeiten zu clustern.\n",
    "\n",
    "**Grundlage/Inspiration**<br>\n",
    "Als Grundlage und grober Leitfaden für das Projekt diente das TensoFlow-Tutorial [Vector Representations of Words](https://www.tensorflow.org/tutorials/representation/word2vec). Ein Großteil der Architekturideen und Implementationsbausteine musste jedoch umgebaut werden und auf die speziellen Bedürfnisse unseres Datensatzes, als auch die Ziele der Projektarbeit angepasst werden.\n",
    "\n",
    "**Hintergrundinformationen**<br>\n",
    "Für allgemeine Hintergrundinformationen zu den einzelnen, hier im Modul angewandte Techniken und auch Details zur Entscheidungsfindung für bestimmte Ansätze, lohnt sich zudem ein Blick in das [Exposé](Documents/NN-Projekt-Expose.pdf).\n",
    "\n",
    "**Quellen**<br>\n",
    "Quellengestützte Aussagen und direkt/indirekt übernommene Inhalte sind mit einem dreistelligen Tag [XXX] versehen und können anhand diesem im Literaturverzeichnis am Ende des Notebooks eingesehen werden."
   ]
  },
  {
   "cell_type": "code",
   "execution_count": 1,
   "metadata": {
    "colab": {},
    "colab_type": "code",
    "id": "us2jJuCTNzou"
   },
   "outputs": [
    {
     "data": {
      "text/html": [
       "        <script type=\"text/javascript\">\n",
       "        window.PlotlyConfig = {MathJaxConfig: 'local'};\n",
       "        if (window.MathJax) {MathJax.Hub.Config({SVG: {font: \"STIX-Web\"}});}\n",
       "        if (typeof require !== 'undefined') {\n",
       "        require.undef(\"plotly\");\n",
       "        requirejs.config({\n",
       "            paths: {\n",
       "                'plotly': ['https://cdn.plot.ly/plotly-latest.min']\n",
       "            }\n",
       "        });\n",
       "        require(['plotly'], function(Plotly) {\n",
       "            window._Plotly = Plotly;\n",
       "        });\n",
       "        }\n",
       "        </script>\n",
       "        "
      ]
     },
     "metadata": {},
     "output_type": "display_data"
    }
   ],
   "source": [
    "# Für Dependency-Installation siehe README.md\n",
    "from __future__ import absolute_import\n",
    "from __future__ import division\n",
    "from __future__ import print_function\n",
    "\n",
    "import collections\n",
    "import math\n",
    "import os\n",
    "import random\n",
    "import sys\n",
    "from tempfile import gettempdir\n",
    "\n",
    "import numpy as np\n",
    "from six.moves import xrange\n",
    "import tensorflow as tf\n",
    "\n",
    "import pandas as pd\n",
    "\n",
    "from sklearn.manifold import TSNE\n",
    "\n",
    "import plotly.graph_objs as go\n",
    "from plotly.offline import init_notebook_mode, iplot\n",
    "from plotly.graph_objs import *\n",
    "\n",
    "init_notebook_mode(connected=True)"
   ]
  },
  {
   "cell_type": "markdown",
   "metadata": {},
   "source": [
    "# Daten:\n",
    "Hier findet das Einladen des Anfragen-Katalogs des FragDenStaat-Projektes statt.  \n",
    "Die Daten wurden schon im Zuge der Werkstudententätigkeit von S. Jüngling im Vorfeld bezogen und weitestgehend aufbereitet.\n",
    "Dabei wurden die Texte auf ihre bedeutungstragenden Begriffe reduziert und die Wörter lemmatisiert.\n",
    "\n",
    "Beim Ausführen dieses Notebooks bitte darauf achten, die Daten gemäß der Anleitung in der README.md Datei herunterzuladen."
   ]
  },
  {
   "cell_type": "code",
   "execution_count": 2,
   "metadata": {
    "colab": {
     "base_uri": "https://localhost:8080/",
     "height": 307
    },
    "colab_type": "code",
    "id": "6jy-dki-Sbxc",
    "outputId": "19e9db64-9618-4bad-bf42-fee7bb83b4dd"
   },
   "outputs": [],
   "source": [
    "data = pd.read_json('fds_requests_preprocessed.json', orient='records', encoding='utf-8')\n",
    "data = data.set_index('id') #set column 'id' as index"
   ]
  },
  {
   "cell_type": "code",
   "execution_count": 3,
   "metadata": {
    "colab": {
     "base_uri": "https://localhost:8080/",
     "height": 142
    },
    "colab_type": "code",
    "id": "3VhuI9WkXbeH",
    "outputId": "5128ec4d-42eb-4cc7-fbab-7ed22836cf73",
    "scrolled": true
   },
   "outputs": [
    {
     "data": {
      "text/html": [
       "<div>\n",
       "<style scoped>\n",
       "    .dataframe tbody tr th:only-of-type {\n",
       "        vertical-align: middle;\n",
       "    }\n",
       "\n",
       "    .dataframe tbody tr th {\n",
       "        vertical-align: top;\n",
       "    }\n",
       "\n",
       "    .dataframe thead th {\n",
       "        text-align: right;\n",
       "    }\n",
       "</style>\n",
       "<table border=\"1\" class=\"dataframe\">\n",
       "  <thead>\n",
       "    <tr style=\"text-align: right;\">\n",
       "      <th></th>\n",
       "      <th>description</th>\n",
       "      <th>preprocessed</th>\n",
       "      <th>textrank</th>\n",
       "      <th>title</th>\n",
       "    </tr>\n",
       "    <tr>\n",
       "      <th>id</th>\n",
       "      <th></th>\n",
       "      <th></th>\n",
       "      <th></th>\n",
       "      <th></th>\n",
       "    </tr>\n",
       "  </thead>\n",
       "  <tbody>\n",
       "    <tr>\n",
       "      <th>47033</th>\n",
       "      <td>1. Wann haben die beiden letzten lebensmittelr...</td>\n",
       "      <td>[[kontrollbericht, parkstern, berlin], [betrie...</td>\n",
       "      <td>[[parkstern, Parkstern, 1.1227777778], [berlin...</td>\n",
       "      <td>Kontrollbericht zu Parkstern, Berlin</td>\n",
       "    </tr>\n",
       "    <tr>\n",
       "      <th>131943</th>\n",
       "      <td>Die Stellungnahme des BfR zur IARC- Monographi...</td>\n",
       "      <td>[[stellungnahme, bfr], [iarc, monographie, gly...</td>\n",
       "      <td>[[stellungnahme, Stellungnahme, 1.0], [bfr, Bf...</td>\n",
       "      <td>Stellungnahme des BfR zur IARC- Monographie üb...</td>\n",
       "    </tr>\n",
       "    <tr>\n",
       "      <th>47827</th>\n",
       "      <td>1. Wann haben die beiden letzten lebensmittelr...</td>\n",
       "      <td>[[kontrollbericht, aroma, berlin], [betriebsüb...</td>\n",
       "      <td>[[aroma, Aroma, 1.1227777778], [berlin, Berlin...</td>\n",
       "      <td>Kontrollbericht zu Aroma, Berlin</td>\n",
       "    </tr>\n",
       "    <tr>\n",
       "      <th>131938</th>\n",
       "      <td>Die Stellungnahme des BfR zur IARC- Monographi...</td>\n",
       "      <td>[[stellungnahme, bfr], [iarc, monographie, gly...</td>\n",
       "      <td>[[stellungnahme, Stellungnahme, 1.0], [bfr, Bf...</td>\n",
       "      <td>Stellungnahme des BfR zur IARC- Monographie üb...</td>\n",
       "    </tr>\n",
       "    <tr>\n",
       "      <th>48091</th>\n",
       "      <td>1. Wann haben die beiden letzten lebensmittelr...</td>\n",
       "      <td>[[kontrollbericht], [hans, glück, bonn], [betr...</td>\n",
       "      <td>[[bonn, Bonn, 1.2479166667000001], [hans, Hans...</td>\n",
       "      <td>Kontrollbericht zu \"Hans im Glück\", Bonn</td>\n",
       "    </tr>\n",
       "  </tbody>\n",
       "</table>\n",
       "</div>"
      ],
      "text/plain": [
       "                                              description  \\\n",
       "id                                                          \n",
       "47033   1. Wann haben die beiden letzten lebensmittelr...   \n",
       "131943  Die Stellungnahme des BfR zur IARC- Monographi...   \n",
       "47827   1. Wann haben die beiden letzten lebensmittelr...   \n",
       "131938  Die Stellungnahme des BfR zur IARC- Monographi...   \n",
       "48091   1. Wann haben die beiden letzten lebensmittelr...   \n",
       "\n",
       "                                             preprocessed  \\\n",
       "id                                                          \n",
       "47033   [[kontrollbericht, parkstern, berlin], [betrie...   \n",
       "131943  [[stellungnahme, bfr], [iarc, monographie, gly...   \n",
       "47827   [[kontrollbericht, aroma, berlin], [betriebsüb...   \n",
       "131938  [[stellungnahme, bfr], [iarc, monographie, gly...   \n",
       "48091   [[kontrollbericht], [hans, glück, bonn], [betr...   \n",
       "\n",
       "                                                 textrank  \\\n",
       "id                                                          \n",
       "47033   [[parkstern, Parkstern, 1.1227777778], [berlin...   \n",
       "131943  [[stellungnahme, Stellungnahme, 1.0], [bfr, Bf...   \n",
       "47827   [[aroma, Aroma, 1.1227777778], [berlin, Berlin...   \n",
       "131938  [[stellungnahme, Stellungnahme, 1.0], [bfr, Bf...   \n",
       "48091   [[bonn, Bonn, 1.2479166667000001], [hans, Hans...   \n",
       "\n",
       "                                                    title  \n",
       "id                                                         \n",
       "47033                Kontrollbericht zu Parkstern, Berlin  \n",
       "131943  Stellungnahme des BfR zur IARC- Monographie üb...  \n",
       "47827                    Kontrollbericht zu Aroma, Berlin  \n",
       "131938  Stellungnahme des BfR zur IARC- Monographie üb...  \n",
       "48091            Kontrollbericht zu \"Hans im Glück\", Bonn  "
      ]
     },
     "execution_count": 3,
     "metadata": {},
     "output_type": "execute_result"
    }
   ],
   "source": [
    "data.head()"
   ]
  },
  {
   "cell_type": "markdown",
   "metadata": {},
   "source": [
    "### Beispiel für Preprocessing des Anfragetextes:"
   ]
  },
  {
   "cell_type": "code",
   "execution_count": 4,
   "metadata": {},
   "outputs": [
    {
     "name": "stdout",
     "output_type": "stream",
     "text": [
      "Titel und Description für Beispielanfrage:\n",
      "\n",
      "Kontrollbericht zu Aroma, Berlin\n",
      "1. Wann haben die beiden letzten lebensmittelrechtlichen Betriebsüberprüfungen im folgenden Betrieb stattgefunden:\r\n",
      "Aroma\r\n",
      "Kantstraße\r\n",
      "10625 Berlin\r\n",
      "\r\n",
      "2. Kam es hierbei zu Beanstandungen? Falls ja, beantrage ich hiermit die Herausgabe des entsprechenden Kontrollberichts an mich.\n",
      "-------------------------------------------------------------------------\n",
      "\n",
      "Preprocessed Anfragetext für Titel und Anfragetext:\n",
      "\n",
      "[['kontrollbericht', 'aroma', 'berlin'], ['betriebsüberprüfungen', 'betrieb'], ['aroma', 'kantstraße', 'berlin'], ['beanstandung'], ['herausgabe', 'kontrollberichts']]\n"
     ]
    }
   ],
   "source": [
    "print('Titel und Description für Beispielanfrage:\\n')\n",
    "print(data.loc[47827]['title'])\n",
    "print(data.loc[47827]['description'])\n",
    "\n",
    "print('-------------------------------------------------------------------------')\n",
    "\n",
    "print('\\nPreprocessed Anfragetext für Titel und Anfragetext:\\n')\n",
    "print(data.loc[47827]['preprocessed'])"
   ]
  },
  {
   "cell_type": "markdown",
   "metadata": {},
   "source": [
    "### Reduzierung der Anzahl der Anfragen zu Glyphosat\n",
    "Immer wieder kommt es bei FragDenStaat zu einer Häufung tagespolitischer Themen, wie z.B. die Fragen rund um das Thema Glyphosat. Seit März 2019 sind hierzu bereits mehr als 30.000 Anfragen eingegangen, welche anhand eines immer gleichen Musters ausformuliert werden und somit das Training der globalen Datenmenge zu stark beeinflussen. Zur Reduzierung dieses Einflusses werden die Anfragen zu diesem Thema bei 3000 gedeckelt.\n",
    "Um auch in Zukunft und ggf. bei der Nutzung andersartiger Datensätze einwandfreie Ergebnisse zu erzielen, sollte regelmäßig geprüft werden, ob die Daten von einem bestimmten Thema dominiert werden."
   ]
  },
  {
   "cell_type": "code",
   "execution_count": 5,
   "metadata": {},
   "outputs": [
    {
     "name": "stdout",
     "output_type": "stream",
     "text": [
      "Anzahl der Anfragen zu Glyphosat: 36199 von insgesamt: 92374 Anfragen\n",
      "Anzahl der Anfragen zu Glyphosat nach Bereinigung: 3000 von insgesamt: 59175 Anfragen\n"
     ]
    }
   ],
   "source": [
    "glyphosat_title = 'Stellungnahme des BfR zur IARC- Monographie über Glyphosat'\n",
    "glyphosat_ids = data[data['title'] == glyphosat_title].index\n",
    "\n",
    "print('Anzahl der Anfragen zu Glyphosat:', len(glyphosat_ids), 'von insgesamt:', len(data), 'Anfragen')\n",
    "\n",
    "# Da dies alle gleiche Anfragen sind und diese hohe Anzahl den Trainingsprozess verfälschen würde, \n",
    "# wird die Anzahl der Anfragen zu Glyphosat auf 3000 beschränkt\n",
    "remain_glyphosat_requests = 3000\n",
    "data.drop(glyphosat_ids[remain_glyphosat_requests:], inplace=True) # drop by id\n",
    "\n",
    "print('Anzahl der Anfragen zu Glyphosat nach Bereinigung:', len(data[data['title'] == glyphosat_title]), 'von insgesamt:', len(data), 'Anfragen')\n"
   ]
  },
  {
   "cell_type": "markdown",
   "metadata": {},
   "source": [
    "### Shuffle Data:\n",
    "Während des Trainings mit den Daten konnte trotz der sorgfältigen Beseitigung dominanter Themen immer noch eine überproportionale Gewichtung der Glyphosat-Themen festgestellt werden. Das Problem lag hierbei im chronologisch vorliegenden Datensatz, welcher eine natürliche, große Abfolge von gleichen Themen nacheinander besitzt. Um die Word-Embeddings dadurch nicht zu stark in eine Richtung zu trainieren, werden die Anfragen randomisiert."
   ]
  },
  {
   "cell_type": "code",
   "execution_count": 6,
   "metadata": {},
   "outputs": [
    {
     "data": {
      "text/html": [
       "<div>\n",
       "<style scoped>\n",
       "    .dataframe tbody tr th:only-of-type {\n",
       "        vertical-align: middle;\n",
       "    }\n",
       "\n",
       "    .dataframe tbody tr th {\n",
       "        vertical-align: top;\n",
       "    }\n",
       "\n",
       "    .dataframe thead th {\n",
       "        text-align: right;\n",
       "    }\n",
       "</style>\n",
       "<table border=\"1\" class=\"dataframe\">\n",
       "  <thead>\n",
       "    <tr style=\"text-align: right;\">\n",
       "      <th></th>\n",
       "      <th>description</th>\n",
       "      <th>preprocessed</th>\n",
       "      <th>textrank</th>\n",
       "      <th>title</th>\n",
       "    </tr>\n",
       "    <tr>\n",
       "      <th>id</th>\n",
       "      <th></th>\n",
       "      <th></th>\n",
       "      <th></th>\n",
       "      <th></th>\n",
       "    </tr>\n",
       "  </thead>\n",
       "  <tbody>\n",
       "    <tr>\n",
       "      <th>131146</th>\n",
       "      <td>Die Stellungnahme des BfR zur IARC- Monographi...</td>\n",
       "      <td>[[stellungnahme, bfr], [iarc, monographie, gly...</td>\n",
       "      <td>[[stellungnahme, Stellungnahme, 1.0], [bfr, Bf...</td>\n",
       "      <td>Stellungnahme des BfR zur IARC- Monographie üb...</td>\n",
       "    </tr>\n",
       "    <tr>\n",
       "      <th>57261</th>\n",
       "      <td>1. Wie viele BAföG-Anträge wurden im Jahr 2018...</td>\n",
       "      <td>[[bafög-anträge, jahr, studierendenwerk, heide...</td>\n",
       "      <td>[[bafög-anträge, BAföG-Anträge, 1.0], [jahr, J...</td>\n",
       "      <td>BAföG-Anträge 2018</td>\n",
       "    </tr>\n",
       "    <tr>\n",
       "      <th>8808</th>\n",
       "      <td>alle Informationen (einschließlich handschrift...</td>\n",
       "      <td>[[treffen, großmann-pofalla], [information, no...</td>\n",
       "      <td>[[chef, Chef, 1.1545347222], [jürgen, Jürgen, ...</td>\n",
       "      <td>Treffen Großmann-Pofalla</td>\n",
       "    </tr>\n",
       "    <tr>\n",
       "      <th>28691</th>\n",
       "      <td>* Sicherheitsaudit / Analyse von 18 Kryptobibl...</td>\n",
       "      <td>[[sicherheitsaudits, projekt], [implementierun...</td>\n",
       "      <td>[[o.g., o.g., 1.3899324405], [analyse, Analyse...</td>\n",
       "      <td>Sicherheitsaudits des Projekts \"Sichere Implem...</td>\n",
       "    </tr>\n",
       "    <tr>\n",
       "      <th>11089</th>\n",
       "      <td>Senden Sie mir bitte nach Aktueller Rechtsgrun...</td>\n",
       "      <td>[[verjährungsfristen, rechtsgrundlagen, jobcen...</td>\n",
       "      <td>[[verjährungsfristen, Verjährungsfristen, 1.51...</td>\n",
       "      <td>Verjährungsfristen und deren Rechtsgrundlagen ...</td>\n",
       "    </tr>\n",
       "  </tbody>\n",
       "</table>\n",
       "</div>"
      ],
      "text/plain": [
       "                                              description  \\\n",
       "id                                                          \n",
       "131146  Die Stellungnahme des BfR zur IARC- Monographi...   \n",
       "57261   1. Wie viele BAföG-Anträge wurden im Jahr 2018...   \n",
       "8808    alle Informationen (einschließlich handschrift...   \n",
       "28691   * Sicherheitsaudit / Analyse von 18 Kryptobibl...   \n",
       "11089   Senden Sie mir bitte nach Aktueller Rechtsgrun...   \n",
       "\n",
       "                                             preprocessed  \\\n",
       "id                                                          \n",
       "131146  [[stellungnahme, bfr], [iarc, monographie, gly...   \n",
       "57261   [[bafög-anträge, jahr, studierendenwerk, heide...   \n",
       "8808    [[treffen, großmann-pofalla], [information, no...   \n",
       "28691   [[sicherheitsaudits, projekt], [implementierun...   \n",
       "11089   [[verjährungsfristen, rechtsgrundlagen, jobcen...   \n",
       "\n",
       "                                                 textrank  \\\n",
       "id                                                          \n",
       "131146  [[stellungnahme, Stellungnahme, 1.0], [bfr, Bf...   \n",
       "57261   [[bafög-anträge, BAföG-Anträge, 1.0], [jahr, J...   \n",
       "8808    [[chef, Chef, 1.1545347222], [jürgen, Jürgen, ...   \n",
       "28691   [[o.g., o.g., 1.3899324405], [analyse, Analyse...   \n",
       "11089   [[verjährungsfristen, Verjährungsfristen, 1.51...   \n",
       "\n",
       "                                                    title  \n",
       "id                                                         \n",
       "131146  Stellungnahme des BfR zur IARC- Monographie üb...  \n",
       "57261                                  BAföG-Anträge 2018  \n",
       "8808                             Treffen Großmann-Pofalla  \n",
       "28691   Sicherheitsaudits des Projekts \"Sichere Implem...  \n",
       "11089   Verjährungsfristen und deren Rechtsgrundlagen ...  "
      ]
     },
     "execution_count": 6,
     "metadata": {},
     "output_type": "execute_result"
    }
   ],
   "source": [
    "data = data.sample(frac=1)\n",
    "data.head()"
   ]
  },
  {
   "cell_type": "markdown",
   "metadata": {},
   "source": [
    "# Input-Daten generieren:"
   ]
  },
  {
   "cell_type": "markdown",
   "metadata": {},
   "source": [
    "## Daten aufbereiten\n",
    "Für die späteren Bearbeitungsschritte müssen die vorliegenden Anfragen aufbereitet und um Metainformationen erweitert werden.  \n",
    "Besonders die Indizierung der benutzten Wörter und das Erstellen entsprechender Lookup-Tables spielt im weiteren Verlauf des Notebooks eine vitale Rolle. \n",
    "Mit den daraus gewonnenen Wort-Indizes werden die Sätze der Anfragetexte nachgebaut. Für das Training wird außerdem die Gesamtanzahl der einzigartigen Wörter in allen Anfragetexten benötigt."
   ]
  },
  {
   "cell_type": "code",
   "execution_count": 7,
   "metadata": {
    "colab": {},
    "colab_type": "code",
    "id": "5nxCqoQSTYBn"
   },
   "outputs": [],
   "source": [
    "def build_lookup_tables(docs, vocabulary_size=None):\n",
    "    '''\n",
    "    :param docs: Spalte eines pandas-DF: data['preprocessed'].values\n",
    "    :return sentences: Alle Sätze aller Dokumente in einer Liste\n",
    "    :return words: Alle Wörter aller Dokumente in einer Liste\n",
    "    :return word_count: Häufigkeiten der jeweiligen Wörter in allen Dokumenten\n",
    "    :return word_2_index_dict: Lookup-Table\n",
    "    :return index_2_word_dict: Lookup-Table\n",
    "    :return sentences_as_index: Alle Sätze aller Dokumente mit Wortindex, anstatt des Wortes\n",
    "    :return sentences_as_index_flattened: wie sentences_as_index, aber ohne subarrays (flattened)\n",
    "    :return vocabulary_size: Anzahl der einzigartigen Wörter\n",
    "    '''\n",
    "    sentences = [sent for pd_list in docs for sent in pd_list]\n",
    "    words = [word for sent in sentences for word in sent]\n",
    "  \n",
    "    if not vocabulary_size:\n",
    "        # Anzahl der einzigartigen Wörter\n",
    "        vocabulary_size = len(set(words))\n",
    " \n",
    "    # Anzahl der Worthäufigkeiten\n",
    "    word_count = collections.Counter(words).most_common(vocabulary_size)\n",
    "    word_count.append(['UNK', -1]) # Flag für Wörter, die nicht oft vorkommen (nur wichtig bei begrenzter Vokabulargröße)\n",
    "  \n",
    "    # Lookup-Tables\n",
    "    word_2_index_dict = {}\n",
    "    for index, word in enumerate(word_count):\n",
    "        word_2_index_dict[word[0]] = index\n",
    "  \n",
    "    index_2_word_dict = dict(zip(word_2_index_dict.values(), word_2_index_dict.keys()))\n",
    "  \n",
    "    # Wörter der Anfragetexte durch Indizes austauschen:\n",
    "    sentences_as_index = []\n",
    "    unknown_word_count = 0\n",
    "    for sent in sentences:\n",
    "        sent_index = []\n",
    "        for word in sent:\n",
    "            if word in word_2_index_dict:\n",
    "                sent_index.append(word_2_index_dict[word])\n",
    "            else:\n",
    "                unknown_word_count += 1\n",
    "        if sent_index:\n",
    "            sentences_as_index.append(sent_index)\n",
    "    word_count[-1][1] = unknown_word_count\n",
    "\n",
    "    sentences_as_index_flattened = [word for sent in sentences_as_index for word in sent]\n",
    "  \n",
    "    return sentences, words, word_count, word_2_index_dict, index_2_word_dict, sentences_as_index, sentences_as_index_flattened, vocabulary_size\n"
   ]
  },
  {
   "cell_type": "code",
   "execution_count": 8,
   "metadata": {
    "colab": {},
    "colab_type": "code",
    "id": "2axsWl9ii25H"
   },
   "outputs": [],
   "source": [
    "sentences, words, word_count, word_2_index_dict, index_2_word_dict, sentences_as_index, sentences_as_index_flattened, vocabulary_size = build_lookup_tables(data['preprocessed'].values)"
   ]
  },
  {
   "cell_type": "markdown",
   "metadata": {},
   "source": [
    "### Beispiele:"
   ]
  },
  {
   "cell_type": "markdown",
   "metadata": {},
   "source": [
    "Alle Sätze der Anfragetexte in einer Liste:"
   ]
  },
  {
   "cell_type": "code",
   "execution_count": 9,
   "metadata": {
    "colab": {
     "base_uri": "https://localhost:8080/",
     "height": 119
    },
    "colab_type": "code",
    "id": "htJa8Opejkgl",
    "outputId": "592c135e-96e3-4ae4-c706-0b372efaee26"
   },
   "outputs": [
    {
     "data": {
      "text/plain": [
       "[['stellungnahme', 'bfr'],\n",
       " ['iarc', 'monographie', 'glyphosat'],\n",
       " ['stellungnahme', 'bfr'],\n",
       " ['iarc', 'monographie', 'glyphosat', 'september'],\n",
       " ['dokument', 'arne', 'semsrott']]"
      ]
     },
     "execution_count": 9,
     "metadata": {},
     "output_type": "execute_result"
    }
   ],
   "source": [
    "sentences[:5]"
   ]
  },
  {
   "cell_type": "markdown",
   "metadata": {},
   "source": [
    "Alle Wörter aller Anfragetexte chronologisch in einer Liste:"
   ]
  },
  {
   "cell_type": "code",
   "execution_count": 10,
   "metadata": {
    "colab": {
     "base_uri": "https://localhost:8080/",
     "height": 34
    },
    "colab_type": "code",
    "id": "CC0x0bS2jk93",
    "outputId": "7658adac-e306-4c36-c37b-73b83cd2fa77"
   },
   "outputs": [
    {
     "data": {
      "text/plain": [
       "['stellungnahme', 'bfr', 'iarc', 'monographie', 'glyphosat']"
      ]
     },
     "execution_count": 10,
     "metadata": {},
     "output_type": "execute_result"
    }
   ],
   "source": [
    "words[:5]"
   ]
  },
  {
   "cell_type": "markdown",
   "metadata": {},
   "source": [
    "Anzahl der Worthäufigkeiten:"
   ]
  },
  {
   "cell_type": "code",
   "execution_count": 11,
   "metadata": {
    "colab": {
     "base_uri": "https://localhost:8080/",
     "height": 340
    },
    "colab_type": "code",
    "id": "o7AXFIVPjlPc",
    "outputId": "40571fd8-1d1a-4008-c7a3-2bc918fe47dd"
   },
   "outputs": [
    {
     "data": {
      "text/plain": [
       "[('betrieb', 24351),\n",
       " ('herausgabe', 24007),\n",
       " ('kontrollbericht', 23946),\n",
       " ('beanstandung', 23880),\n",
       " ('betriebsüberprüfungen', 23782)]"
      ]
     },
     "execution_count": 11,
     "metadata": {},
     "output_type": "execute_result"
    }
   ],
   "source": [
    "word_count[:5]"
   ]
  },
  {
   "cell_type": "markdown",
   "metadata": {},
   "source": [
    "Wort zu Wortindex Lookup-Table:"
   ]
  },
  {
   "cell_type": "code",
   "execution_count": 12,
   "metadata": {
    "colab": {
     "base_uri": "https://localhost:8080/",
     "height": 340
    },
    "colab_type": "code",
    "id": "uYVuDGdRjlin",
    "outputId": "a2c897db-6785-478f-8d9f-fcaa4f980c49"
   },
   "outputs": [
    {
     "data": {
      "text/plain": [
       "{'betrieb': 0,\n",
       " 'herausgabe': 1,\n",
       " 'kontrollbericht': 2,\n",
       " 'beanstandung': 3,\n",
       " 'betriebsüberprüfungen': 4,\n",
       " 'kontrollberichts': 5,\n",
       " 'dokument': 6,\n",
       " 'information': 7,\n",
       " 'abs.': 8,\n",
       " 'stellungnahme': 9}"
      ]
     },
     "execution_count": 12,
     "metadata": {},
     "output_type": "execute_result"
    }
   ],
   "source": [
    "# word_2_index_dict\n",
    "# nur für Anschauungszwecke (erste 10 Key-Value-Paaare):\n",
    "{k: word_2_index_dict[k] for k in list(word_2_index_dict)[:10]}"
   ]
  },
  {
   "cell_type": "markdown",
   "metadata": {},
   "source": [
    "Wortindex zu Wort Lookup-Table:"
   ]
  },
  {
   "cell_type": "code",
   "execution_count": 13,
   "metadata": {
    "colab": {
     "base_uri": "https://localhost:8080/",
     "height": 340
    },
    "colab_type": "code",
    "id": "2ZhDExldjlzf",
    "outputId": "f71b8bb2-bbbd-477c-b86e-5c9b8c4f4316"
   },
   "outputs": [
    {
     "data": {
      "text/plain": [
       "{0: 'betrieb',\n",
       " 1: 'herausgabe',\n",
       " 2: 'kontrollbericht',\n",
       " 3: 'beanstandung',\n",
       " 4: 'betriebsüberprüfungen',\n",
       " 5: 'kontrollberichts',\n",
       " 6: 'dokument',\n",
       " 7: 'information',\n",
       " 8: 'abs.',\n",
       " 9: 'stellungnahme'}"
      ]
     },
     "execution_count": 13,
     "metadata": {},
     "output_type": "execute_result"
    }
   ],
   "source": [
    "# index_2_word_dict\n",
    "# nur für Anschauungszwecke (erste 10 Key-Value-Paaare):\n",
    "{k: index_2_word_dict[k] for k in list(index_2_word_dict)[:10]}"
   ]
  },
  {
   "cell_type": "markdown",
   "metadata": {},
   "source": [
    "Alle Wörter in allen Anfragesätzen ausgetauscht durch den jeweiligen Wortindex:"
   ]
  },
  {
   "cell_type": "code",
   "execution_count": 14,
   "metadata": {
    "colab": {
     "base_uri": "https://localhost:8080/",
     "height": 119
    },
    "colab_type": "code",
    "id": "xjRpEGCGkHud",
    "outputId": "023dd201-62d0-4556-b4f9-c903648f7778"
   },
   "outputs": [
    {
     "data": {
      "text/plain": [
       "[[9, 19], [20, 21, 18], [9, 19], [20, 21, 18, 44], [6, 49, 50]]"
      ]
     },
     "execution_count": 14,
     "metadata": {},
     "output_type": "execute_result"
    }
   ],
   "source": [
    "sentences_as_index[:5]"
   ]
  },
  {
   "cell_type": "markdown",
   "metadata": {},
   "source": [
    "Alle Wörter aller Anfragetexte chronologisch in einer Liste, ausgetauscht durch den Wortindex:"
   ]
  },
  {
   "cell_type": "code",
   "execution_count": 15,
   "metadata": {
    "colab": {
     "base_uri": "https://localhost:8080/",
     "height": 34
    },
    "colab_type": "code",
    "id": "pnrYmbeJMVpm",
    "outputId": "825ce233-a7f8-4b29-b506-e1b878de3bd7"
   },
   "outputs": [
    {
     "data": {
      "text/plain": [
       "[9, 19, 20, 21, 18, 9, 19, 20, 21, 18]"
      ]
     },
     "execution_count": 15,
     "metadata": {},
     "output_type": "execute_result"
    }
   ],
   "source": [
    "sentences_as_index_flattened[:10]"
   ]
  },
  {
   "cell_type": "markdown",
   "metadata": {},
   "source": [
    "Anzahl aller einzigartigen Wörter aus allen Anfragetexten:"
   ]
  },
  {
   "cell_type": "code",
   "execution_count": 16,
   "metadata": {
    "colab": {
     "base_uri": "https://localhost:8080/",
     "height": 34
    },
    "colab_type": "code",
    "id": "mDjh9g9Tk5WS",
    "outputId": "36a24c11-c75f-4bfc-a283-b5fd71bbf659"
   },
   "outputs": [
    {
     "data": {
      "text/plain": [
       "95602"
      ]
     },
     "execution_count": 16,
     "metadata": {},
     "output_type": "execute_result"
    }
   ],
   "source": [
    "vocabulary_size"
   ]
  },
  {
   "cell_type": "markdown",
   "metadata": {},
   "source": [
    "## (Input-)Target-Wörter mit entsprechenden Labels aus Daten ableiten\n"
   ]
  },
  {
   "cell_type": "markdown",
   "metadata": {},
   "source": [
    "### Word-Embeddings\n",
    "Essenziell für die folgenden Schritte ist ein generelles Verständnis von Word-Embeddings. Ein Wort kann als ein Vektor mit einer beliebigen Anzahl von Features dargestellt werden. Die voreingestellten Parameter dieses Notebooks arbeiten mit 300 Features (Vektordimension).\n",
    "Vergleichen wir beispielsweise die Word-Embeddings der Wörter \"Hund\" und \"Katze\", so werden bestimmte Features innerhalb der beiden Vektoren eine Ähnlichkeit haben, u.a. an der Stelle wo das Modell die Kategorie \"Tier\" trainiert hat. Anhand eines Beispiels, in dem die Word-Embedding Values mit Farben je nach Wert ersetzt wurden, lässt sich dieses Prinzip gut veranschaulichen:\n",
    "\n",
    "<img src=\"Images/king-man-woman-embedding.png\" alt=\"drawing\" width=\"500\"/>\n",
    "Quelle: [WED]\n",
    "\n",
    "\n",
    "### Language Modelling\n",
    "Je nach Ansatz ist es das Ziel eines Language Modells, für ein gegebenes Wort möglichst Präzise Vorhersagen zu treffen, welches Wort darauf folgen könnte (CBOW) oder anhand eines Wortes die umgebenden Wörter vorherzusagen (Skip-Gram). Anhand der im vorherigen Abschnitt erstellten Word-Embeddings können wir einzelne Wörter oder ganze Sätze leicht vergleichen und prüfen, ob Sie in einem kontextuellen Zusammenhang stehen. \n",
    "\n",
    "### Skip-Gram Model und Context-Windows\n",
    "Folgende Abbildung skizziert die generelle Architektur eines Skip-Gram Modells:\n",
    "\n",
    "<img src=\"Images/skip_gram_net_architecuture.png\" alt=\"drawing\" width=\"600\"/>\n",
    "Quelle: [SAM]\n",
    "\n",
    "Im Notebook kommt es jedoch zu einigen Abweichungen von der Standard-Architektur, insbesondere bei der Klassifikation/Loss-Funktion (siehe folgende Kapitel: NCE). <br>\n",
    "\n",
    "Natürlich muss ein solches Language-Modell zunächst ausgiebig trainiert werden. Mittels Context-Windows, also ein Ausschnitt von umgebenden Wörtern, versuchen wir Wort-Paare aus Target- und Label-Wörtern zu erstellen, die häufig zusammen auftreten. Angenommen wir nutzen Window-Size=2, dann betrachten wir an jedem Wort eines Satzes die zwei Wörter (\"labels\") vor und nach dem fokussierten Wort (\"target\") und notieren dieses gemeinsame Auftreten. In folgendem Beispiel wird die Context-Window Methode an einem Skip-Gram Modell dargestellt. Blau markierte Target-Wörter (Input) mit den entsprechenden Labels, abhängig von der Window-Size, gespeichert als Target-Label Paare (Tupel).\n",
    "\n",
    "<img src=\"Images/skipgram-sliding-window-samples.png\" alt=\"drawing\" width=\"400\"/>\n",
    "Quelle: [SWS]\n",
    "\n",
    "Context-Windows arbeiten mit einzelnen Sätzen und beim Beginn und Ende eines jeden Satzes muss zudem darauf geachtet werden, dass mit dem Window nicht vor oder nach dem Satz geslided wird. Die folgende Implementierung erzeugt nun die Target-Label Paare, wobei anstelle realer Wörter im weiteren Verlauf die Wort-Indizes verwendet werden (siehe Beispiel). "
   ]
  },
  {
   "cell_type": "code",
   "execution_count": 17,
   "metadata": {
    "colab": {},
    "colab_type": "code",
    "id": "_-0DEefWVVgF"
   },
   "outputs": [],
   "source": [
    "def get_context_window(input_data, target_index, window_size):\n",
    "    '''\n",
    "    Ermittelt umgebene Wörter abhängig von window_size und target_index des Wortes\n",
    "    :param input_data: Liste mit Wortindizes\n",
    "    :param: target_index: Listenindex des jeweiligen Wortes\n",
    "    :param window_size: Anzahl der Wörter links und rechts des target wortes\n",
    "    :return target value und liste der umgebenen Wörter\n",
    "    '''\n",
    "  \n",
    "    left_start_index = target_index - window_size if (target_index - window_size) >= 0 else 0\n",
    "  \n",
    "    right_start_index = target_index + 1\n",
    "    right_stop_index = target_index + window_size + 1\n",
    "  \n",
    "    target = input_data[target_index]\n",
    "    left_window = input_data[left_start_index:target_index]\n",
    "    right_window = input_data[right_start_index:right_stop_index]\n",
    "  \n",
    "    return target, left_window + right_window\n",
    "   "
   ]
  },
  {
   "cell_type": "markdown",
   "metadata": {},
   "source": [
    "Beispiel:"
   ]
  },
  {
   "cell_type": "code",
   "execution_count": 18,
   "metadata": {
    "colab": {
     "base_uri": "https://localhost:8080/",
     "height": 85
    },
    "colab_type": "code",
    "id": "tL2BjvxTXoHm",
    "outputId": "8209c344-3151-4a41-dea8-5b03b38096e2"
   },
   "outputs": [
    {
     "name": "stdout",
     "output_type": "stream",
     "text": [
      "Beispielsatz aus Indizes: [0, 1, 2, 3, 4, 5]\n",
      "\n",
      "Target-Wort für Index: 0\n",
      "Context-Wörter für window_size 2: [1, 2]\n",
      "\n",
      "Target-Wort für Index:: 2\n",
      "Context-Wörter für window_size 2: [0, 1, 3, 4]\n"
     ]
    }
   ],
   "source": [
    "input_data = list(range(6))\n",
    "print('Beispielsatz aus Indizes:', input_data)\n",
    "print()\n",
    "\n",
    "target_word_index, context_words = get_context_window(input_data, 0, 2)\n",
    "print('Target-Wort für Index:', target_word_index)\n",
    "print('Context-Wörter für window_size 2:', context_words)\n",
    "\n",
    "target_word_index, context_words = get_context_window(input_data, 2, 2)\n",
    "print('\\nTarget-Wort für Index::', target_word_index)\n",
    "print('Context-Wörter für window_size 2:', context_words)"
   ]
  },
  {
   "cell_type": "markdown",
   "metadata": {},
   "source": [
    "### Generiere Target-Wortliste mit entsprechenden Wortkontexten für alle Sätze der Anfragetexte:\n",
    "Nach den Beispielen kann die Context-Window Funktion nun auf alle Sätze in den Input-Daten angewandt werden. Weitere Beispiele mit Ausschnitten aus dem Gesamtdatenbestand bieten zudem zur besseren Veranschaulichung ein Re-Mapping der Word-Indexe auf die realen Wörter."
   ]
  },
  {
   "cell_type": "code",
   "execution_count": 19,
   "metadata": {
    "colab": {},
    "colab_type": "code",
    "id": "q-3OJiQbbPw1"
   },
   "outputs": [],
   "source": [
    "def build_targets_and_labels(input_data, window_size):\n",
    "    '''\n",
    "    Ermittelt alle Targets und Labels abhängig von der window_size\n",
    "    :param input_data: Liste mit Sublisten (Sätze)\n",
    "    :param window_size: Anzahl der Wörter links und rechts des target wortes\n",
    "    :return targets: Liste aller Targetwörter\n",
    "    :return labels: Liste aller Labels zu jeweiligem Targetwort\n",
    "    '''\n",
    "    targets = []\n",
    "    labels = []\n",
    "    for sent in input_data:\n",
    "        for index, word in enumerate(sent):\n",
    "            target_word_index, context_words = get_context_window(sent, index, window_size)\n",
    "            for context_word in context_words:\n",
    "                targets.append(target_word_index)\n",
    "                labels.append(context_word)\n",
    "    return targets, labels\n",
    "  "
   ]
  },
  {
   "cell_type": "markdown",
   "metadata": {},
   "source": [
    "Beispiel:"
   ]
  },
  {
   "cell_type": "code",
   "execution_count": 20,
   "metadata": {
    "colab": {
     "base_uri": "https://localhost:8080/",
     "height": 85
    },
    "colab_type": "code",
    "id": "t6nlmt7jgwj3",
    "outputId": "3b343462-481e-42c3-c52b-4dfb6d457db9"
   },
   "outputs": [
    {
     "name": "stdout",
     "output_type": "stream",
     "text": [
      "Die ersten drei Beispielsätze mit Wortinidizes:\n",
      " [[9, 19], [20, 21, 18], [9, 19]] \n",
      "\n",
      "Target Wortindizes: \n",
      " [9, 19, 20, 20, 21, 21, 18, 18, 9, 19]\n",
      "Label Wortindizes: \n",
      " [19, 9, 21, 18, 20, 18, 20, 21, 19, 9]\n",
      "\n",
      "Beispiel für Mapping der Wortinindizes der Target und Label-Liste:\n",
      "9 stellungnahme -> 19 bfr\n",
      "19 bfr -> 9 stellungnahme\n",
      "20 iarc -> 21 monographie\n",
      "20 iarc -> 18 glyphosat\n",
      "21 monographie -> 20 iarc\n",
      "21 monographie -> 18 glyphosat\n",
      "18 glyphosat -> 20 iarc\n",
      "18 glyphosat -> 21 monographie\n",
      "9 stellungnahme -> 19 bfr\n",
      "19 bfr -> 9 stellungnahme\n"
     ]
    }
   ],
   "source": [
    "input_data = sentences_as_index[:3]\n",
    "print('Die ersten drei Beispielsätze mit Wortinidizes:\\n', input_data, '\\n')\n",
    "\n",
    "targets_list, labels_list = build_targets_and_labels(input_data, window_size=2)\n",
    "print('Target Wortindizes: \\n', targets_list)\n",
    "print('Label Wortindizes: \\n', labels_list)\n",
    "\n",
    "print('\\nBeispiel für Mapping der Wortinindizes der Target und Label-Liste:')\n",
    "for i in range(len(targets_list)):\n",
    "    print(targets_list[i], index_2_word_dict[targets_list[i]], '->', labels_list[i], index_2_word_dict[labels_list[i]])\n",
    "    \n",
    "    "
   ]
  },
  {
   "cell_type": "markdown",
   "metadata": {},
   "source": [
    "# Generiere Trainings-Batch:\n",
    "Folgende Hilfsfunktion generiert iterativ Teilsequenzen (Batches) aus den Target-Label Paaren. Im Return der Funktion ist ein einzelner Batch und mithilfe der Variable `data_index` wird die aktuelle Iterationsposition im Gesamtdatensatz zwischengespeichert und resetted, sobald das Ende des Gesamtdatensatzes erreicht wurde."
   ]
  },
  {
   "cell_type": "code",
   "execution_count": 21,
   "metadata": {
    "colab": {},
    "colab_type": "code",
    "id": "2yiUq2UkhBtA"
   },
   "outputs": [],
   "source": [
    "data_index = 0\n",
    "def generate_batch(batch_size, targets_list, labels_list):\n",
    "    '''\n",
    "    Generiert den Trainigs-Batch\n",
    "    :return batch: Liste mit Target-Indizes\n",
    "    :return labels: Liste mit Label-Indizes, zugehörig zu Target an gleicher Position in batch\n",
    "    '''\n",
    "    global data_index\n",
    "    if data_index + batch_size > len(targets_list):\n",
    "        data_index = 0\n",
    "    batch = np.array(targets_list[data_index:data_index + batch_size], dtype=np.int32)\n",
    "    labels = np.array(labels_list[data_index:data_index + batch_size], dtype=np.int32)[:, np.newaxis]\n",
    "    data_index += batch_size\n",
    "  \n",
    "    return batch, labels\n",
    "  "
   ]
  },
  {
   "cell_type": "markdown",
   "metadata": {},
   "source": [
    "Beispiel für batch_size = 8:"
   ]
  },
  {
   "cell_type": "code",
   "execution_count": 22,
   "metadata": {
    "colab": {
     "base_uri": "https://localhost:8080/",
     "height": 306
    },
    "colab_type": "code",
    "id": "iUXnETiMiERm",
    "outputId": "e2299c78-fe77-423f-da90-a9691a4bd611"
   },
   "outputs": [
    {
     "name": "stdout",
     "output_type": "stream",
     "text": [
      "Target Indizes:\n",
      "[ 9 19 20 20 21 21 18 18]\n",
      "\n",
      "Label Indizes\n",
      "[[19]\n",
      " [ 9]\n",
      " [21]\n",
      " [18]\n",
      " [20]\n",
      " [18]\n",
      " [20]\n",
      " [21]]\n",
      "\n",
      "Beispiel für Mapping der Wortinindizes der Target und Label-liste:\n",
      "9 stellungnahme -> 19 bfr\n",
      "19 bfr -> 9 stellungnahme\n",
      "20 iarc -> 21 monographie\n",
      "20 iarc -> 18 glyphosat\n",
      "21 monographie -> 20 iarc\n",
      "21 monographie -> 18 glyphosat\n",
      "18 glyphosat -> 20 iarc\n",
      "18 glyphosat -> 21 monographie\n"
     ]
    }
   ],
   "source": [
    "batch, labels = generate_batch(8, targets_list, labels_list)\n",
    "print('Target Indizes:')\n",
    "print(batch)\n",
    "\n",
    "print('\\nLabel Indizes')\n",
    "print(labels)\n",
    "\n",
    "print('\\nBeispiel für Mapping der Wortinindizes der Target und Label-liste:')\n",
    "for i in range(len(batch)):\n",
    "    print(batch[i], index_2_word_dict[batch[i]], '->', labels[i, 0], index_2_word_dict[labels[i, 0]])"
   ]
  },
  {
   "cell_type": "markdown",
   "metadata": {},
   "source": [
    "# Baue und Trainiere das Skip-Gram Modell\n",
    "Bis hierhin sollte klar sein was die Funktion eines Skip-Gram Models und deren Target-Label Paaren, eines Context-Window und eines Batches ist. Mit diesem Wissen steht dem eigentlichen Model-Training nichts mehr im Wege! Fast. Vor dem Training bietet sich zunächst die letzte Möglichkeit, mit einstellbaren Parametern Einfluss auf den Verlauf des Trainings zu nehmen. Neben den bereits bekannten Begriffen müssen noch ein paar wenige, neue Parameter verstanden und eingestellt werden, die einen erheblichen Einfluss auf den weiteren Trainingsverlauf ausüben."
   ]
  },
  {
   "cell_type": "markdown",
   "metadata": {},
   "source": [
    "### Einstellbare Parameter:\n",
    "\n",
    "* `batch_size`: Anzahl der berücksichtigten Target-Label Paare pro Trainingsiteration\n",
    "* `embedding_size`: Dimensionsgröße der Word-Embeddings \n",
    "    * -> Wert von 300 zeigt sich als guter Kompromiss von Performance und Genauigkeit\n",
    "* `window_size`: Anzahl der berüchtigten Wörter links und rechts (Nachbarwörter) eines Targetwortes für Bildung der Target-Label Paare\n",
    "* `negative_samples` Anzahl der Negative Samples für NCE Loss (siehe weiter unten)\n",
    "* Anpassung der sich exponentiell verringerten Lernrate (Start-/End-Learning-Rate)\n",
    "* `epochs`: Anzahl der Epochen, also Anzahl der Iterationen die benötigt werden, um einmal alle Target-Label Paare zu durchlaufen"
   ]
  },
  {
   "cell_type": "code",
   "execution_count": 23,
   "metadata": {
    "colab": {},
    "colab_type": "code",
    "id": "TVj4YN6KTK40"
   },
   "outputs": [],
   "source": [
    "batch_size = 128 \n",
    "embedding_size = 300 # Dimension der Word-Embeddings\n",
    "window_size = 2  # Anzahl der Wörter links und rechts vom Target-Wort\n",
    "negative_samples = 64 # Anzahl der negative samples\n",
    "\n",
    "# Die Lernrate wird je Iteration verringert:\n",
    "starter_learning_rate = 1.0\n",
    "end_learning_rate = 0.1\n",
    "\n",
    "epochs = 6 # Anzahl der Epochen. Eine Epoche ist eine Iteration durch den kompletten Trainingsbestand\n",
    "print_every_x_step = 2000 # alle x Iterationen werden infos geprintet"
   ]
  },
  {
   "cell_type": "markdown",
   "metadata": {},
   "source": [
    "## Generieren der Target- und Labelliste für alle Anfragetexte, basierend auf der eingestellten Window-Size:\n",
    "\n",
    "Zu Beginn des Trainings werden nun alle Target-Label Paare aller Anfragetexte des Gesamtdatenbestandes aufgrund der im vorherigen Schritt eingestellten Window-Size generiert."
   ]
  },
  {
   "cell_type": "code",
   "execution_count": 24,
   "metadata": {},
   "outputs": [],
   "source": [
    "targets_list, labels_list = build_targets_and_labels(sentences_as_index, window_size=window_size)"
   ]
  },
  {
   "cell_type": "markdown",
   "metadata": {},
   "source": [
    "Es folgen einige Berechnungen für wichtige, fixe Parameter, die aus den einstellbaren Parametern abgeleitet werden können."
   ]
  },
  {
   "cell_type": "code",
   "execution_count": 25,
   "metadata": {},
   "outputs": [
    {
     "name": "stdout",
     "output_type": "stream",
     "text": [
      "Anzahl Target-Label-Paare: 3099230\n",
      "24213 Iterationen werden benötigt um einmal während des Trainings durch alle Target-Label Paare zu iterieren\n",
      "Iterationen während des Trainings: 145278\n"
     ]
    }
   ],
   "source": [
    "data_index = 0 # für batch start\n",
    "\n",
    "exp_decay_lr = starter_learning_rate - end_learning_rate\n",
    "\n",
    "input_length = len(targets_list) # Anzahl der Target-Label-Paare\n",
    "print('Anzahl Target-Label-Paare:', input_length)\n",
    "\n",
    "full_iteration_cycle = int(math.ceil(input_length / batch_size))\n",
    "print(full_iteration_cycle, 'Iterationen werden benötigt um einmal während des Trainings durch alle Target-Label Paare zu iterieren')\n",
    "\n",
    "num_steps = full_iteration_cycle * epochs\n",
    "print('Iterationen während des Trainings:', num_steps)\n",
    "\n",
    "epsilon=1e-12 # dont touch -> vermeidet Division mit Null bei Normalisierung\n"
   ]
  },
  {
   "cell_type": "markdown",
   "metadata": {},
   "source": [
    "# Build Graph:\n",
    "\n",
    "Mit eingestellten Parametern und allen generierten Target-Label Paaren der Anfragetexte kann nun die Modellarchitektur festgelegt werden. Zunächst werden Tensorflow Placeholder definiert und dann die Word-Embedings (Anzahl einzigartiger Wörter x Anzahl Features/Dimension) mit einem random Wert zwischen 0 und 1 initialisiert. Auf die gleiche Weiße erhalten auch unsere NCE-Weights (Erklärung folgt) initiale Werte. Der Bias wird mit Nullen initialisiert. Bereits im vorherigen Schritt wurde die Start-Lernrate errechnet (delta aus maximal- und minimal-Lernrate), welche nun in der Modell-Architektur in eine exponential-decay Funktion gepackt wird und somit im späteren Training evolutionär angepasst werden kann. Für die komplette Trainingsarchitektur fehlt jetzt nur noch ein(e) Klassifizierungsverfahren/Loss-Funktion.\n",
    "\n",
    "## Noise Contrastive estimation (NCE)\n",
    "\n",
    "Remember: Für ein gegebenes Wort (Target) soll das Modell die Wahrscheinlichkeit der passenden Kontextwörter (Labels) bestimmen. Ein weitverbreitetes und erfahrungsgemäß gutes Klassifizierungsverfahren hierfür ist der Softmax-Classifier. Dieser stellte sich aber während des Trainings als maximal rechenintensiv heraus, da für jedes Wort das ganze Vokabular (mehr als 1 Mio Wörter) mit Wahrscheinlichkeiten belegt werden muss, bzw. die Gewichtsmatrix `[embedding_dim x vocab_dim]` sehr groß ist ([Wiederholung: Softmax-Klassifier](https://www.pyimagesearch.com/2016/09/12/softmax-classifiers-explained/), [Hintergrundwissen: Warum kein Softmax?](https://arxiv.org/pdf/1410.8251.pdf))\n",
    "\n",
    "Um diese Rechenoperation zu vermeiden, aber trotzdem keine spürbaren Einbußen beim Training der Word-Emebdings zu erleiden, kann der NCE-Loss genutzt werden. Hierbei wird das Gesamtvokabular, also die Menge an Wörtern die auf Ähnlichkeit überprüft werden, auf einen Teil mit dem/den passenden Label/n und einen Teil mit gänzlich unpassenden Wörtern (\"Contrastive Noise\") reduziert. Zudem wird die Vorhersage auf ein Klassifikationsproblem (richtig/falsch) reduziert (vgl. Softmax: Normalverteilt), (korrekte) Labels und (gegensätzliche) Noise bekommen also die Werte 0 und 1. Das Modell kann somit anhand sehr guter und schlechter Begriffe lernen, ohne dabei jedes Mal das gesamte Vokabular durchforsten zu müssen. Hierin liegt zugleich der entscheidende Punkt bei NCE: Wir können unsere Noise-Verteilung frei bestimmen, z.B. können nur Wörter mit ganz geringer Häufigkeit, alle Wörter mit gleicher Wahrscheinlichkeit oder einfach eine Normalverteilung selektiert werden. Durch diese künstliche Reduzierung der Grunddatenmenge wird jedoch nicht die Genauigkeit des Models in Mitleidenschaft gezogen (QUELLE: [NCE]). \n",
    "Da das Problem bereits auf eine klassische \"Richtig oder Falsch\"-Frage reduziert wurde, kann in NCE die logistische Regression zur Klassifikation herangezogen werden und dann unsere Word-Embeddings mit dem GradientDescentOptimizer optimiert werden. Eine weiterführende Erklärung mit detaillierten Hintergrundinfos zu NCE findet sich [hier](https://towardsdatascience.com/noise-contrastive-estimation-246446ea9aba) und [hier](http://demo.clab.cs.cmu.edu/cdyer/nce_notes.pdf).\n",
    "\n",
    "In einer früheren Version des Notebooks wurde in diesem Abschnitt auch noch eine Normalisierung der Word-Embeddings auf Werte zwischen 0 und 1 durchgeführt. In zahlreichen Testläufen konnte sich dadurch jedoch keine verbesserte Genauigkeit oder Performance ausmachen und die Ergebnisse der Cosine-Similarity wurden verfälscht, weswegen dieser Part auskommentiert ist.\n"
   ]
  },
  {
   "cell_type": "code",
   "execution_count": 44,
   "metadata": {
    "colab": {
     "base_uri": "https://localhost:8080/",
     "height": 139
    },
    "colab_type": "code",
    "id": "vpEXenMKUWkk",
    "outputId": "666d61c9-50f4-4931-c5be-800356a3fa4b"
   },
   "outputs": [],
   "source": [
    "graph = tf.Graph()\n",
    "\n",
    "with graph.as_default():\n",
    "    # Input Daten\n",
    "    with tf.name_scope('inputs'):\n",
    "        train_inputs = tf.placeholder(tf.int32, shape=[batch_size])\n",
    "        train_labels = tf.placeholder(tf.int32, shape=[batch_size, 1])\n",
    "        iteration = tf.placeholder(tf.int32)\n",
    "  \n",
    "    # Benutze CPU:\n",
    "    with tf.device('/cpu:0'):\n",
    "        with tf.name_scope('embeddings'):\n",
    "            #embeddings = tf.Variable(tf.random_uniform([vocabulary_size, embedding_size], -1.0, 1.0))\n",
    "            # Initialisiere Embeddings:\n",
    "            embeddings = tf.Variable(tf.random_uniform([vocabulary_size, embedding_size], 0.001, 1.0))\n",
    "            # Embeddings Lookup-Table:\n",
    "            embed = tf.nn.embedding_lookup(embeddings, train_inputs)\n",
    "     \n",
    "        # Initialisiere NCE-Weights für den NCE-Loss\n",
    "        with tf.name_scope('weights'):\n",
    "            nce_weights = tf.Variable(\n",
    "                tf.truncated_normal(\n",
    "                    [vocabulary_size, embedding_size],\n",
    "                    stddev=1.0 / math.sqrt(embedding_size)\n",
    "                )\n",
    "            )\n",
    "        \n",
    "        # Bias:\n",
    "        with tf.name_scope('biases'):\n",
    "            nce_biases = tf.Variable(tf.zeros([vocabulary_size]))\n",
    "\n",
    "    # Berechnet der durchschnittlichen NCE-Loss pro Batch\n",
    "    with tf.name_scope('loss'):\n",
    "        loss = tf.reduce_mean(\n",
    "            tf.nn.nce_loss(\n",
    "                weights=nce_weights,\n",
    "                biases=nce_biases,\n",
    "                labels=train_labels,\n",
    "                inputs=embed,\n",
    "                num_sampled=negative_samples,\n",
    "                num_classes=vocabulary_size)\n",
    "        )      \n",
    "  \n",
    "    # Lernrate:\n",
    "    with tf.name_scope('lr'):\n",
    "        # Verringert Lernrate exponentiell, abhäging von der aktuellen Trainigsiteration\n",
    "        lr = end_learning_rate +  tf.train.exponential_decay(exp_decay_lr, iteration, 10000, 1/math.e)\n",
    "\n",
    "    # Gradient Descent optimizer mit entsprechender Lernrate und Minimieren des Loss\n",
    "    with tf.name_scope('optimizer'):\n",
    "        optimizer = tf.train.GradientDescentOptimizer(lr).minimize(loss)\n",
    "    \n",
    "    # Normalisierung der Embeddings in Range [0, 1] --> Disabled\n",
    "    '''normalized_embeddings = tf.math.divide(\n",
    "        tf.subtract(\n",
    "            embeddings,\n",
    "            tf.reduce_min(embeddings)\n",
    "        ),\n",
    "        tf.maximum(\n",
    "            tf.subtract(\n",
    "                tf.reduce_max(embeddings),\n",
    "                tf.reduce_min(embeddings)\n",
    "            ),\n",
    "            epsilon\n",
    "        )\n",
    "    )\n",
    "\n",
    "    #normalized_embeddings = tf.to_float(normalized_embeddings)\n",
    "    normalized_embeddings = tf.dtypes.cast(normalized_embeddings, tf.float32)'''\n",
    " \n",
    "    init = tf.global_variables_initializer()"
   ]
  },
  {
   "cell_type": "markdown",
   "metadata": {},
   "source": [
    "# Training: \n",
    "Alle Vorbereitungsschritte des Notebooks werden hier zusammengeführt. Das Modell wird mit den eingestellten Parametern und den definierten Input-Daten trainiert, die Zwischenstände werden ausgegeben und die finalen Word-Embeddings werden gespeichert."
   ]
  },
  {
   "cell_type": "code",
   "execution_count": 27,
   "metadata": {
    "colab": {
     "base_uri": "https://localhost:8080/",
     "height": 884
    },
    "colab_type": "code",
    "id": "NB2sTAXdXE5a",
    "outputId": "df06d536-cb21-4ee5-e5c9-2e26b7aeb7eb",
    "scrolled": true
   },
   "outputs": [
    {
     "name": "stdout",
     "output_type": "stream",
     "text": [
      "Iteration-Step: 0\n",
      "\tAverage loss:\t 286.615234375 \n",
      "\tlearning-rate:\t 1.0\n",
      "Iteration-Step: 2000\n",
      "\tAverage loss:\t 147.20419073867797 \n",
      "\tlearning-rate:\t 0.8368577\n",
      "Iteration-Step: 4000\n",
      "\tAverage loss:\t 82.59574947929383 \n",
      "\tlearning-rate:\t 0.7032881\n",
      "Iteration-Step: 6000\n",
      "\tAverage loss:\t 60.27989105963707 \n",
      "\tlearning-rate:\t 0.5939305\n",
      "Iteration-Step: 8000\n",
      "\tAverage loss:\t 46.77959523451328 \n",
      "\tlearning-rate:\t 0.5043961\n",
      "Iteration-Step: 10000\n",
      "\tAverage loss:\t 36.80518619650602 \n",
      "\tlearning-rate:\t 0.4310915\n",
      "Iteration-Step: 12000\n",
      "\tAverage loss:\t 30.583697358071802 \n",
      "\tlearning-rate:\t 0.37107483\n",
      "Iteration-Step: 14000\n",
      "\tAverage loss:\t 26.29766586661339 \n",
      "\tlearning-rate:\t 0.32193726\n",
      "Iteration-Step: 16000\n",
      "\tAverage loss:\t 23.09420119446516 \n",
      "\tlearning-rate:\t 0.2817069\n",
      "Iteration-Step: 18000\n",
      "\tAverage loss:\t 20.477657022953032 \n",
      "\tlearning-rate:\t 0.24876902\n",
      "Iteration-Step: 20000\n",
      "\tAverage loss:\t 18.384192624628543 \n",
      "\tlearning-rate:\t 0.22180176\n",
      "Iteration-Step: 22000\n",
      "\tAverage loss:\t 16.72623478370905 \n",
      "\tlearning-rate:\t 0.19972284\n",
      "Iteration-Step: 24000\n",
      "\tAverage loss:\t 14.938502649784088 \n",
      "\tlearning-rate:\t 0.18164617\n",
      "Iteration-Step: 26000\n",
      "\tAverage loss:\t 14.324551065921783 \n",
      "\tlearning-rate:\t 0.16684623\n",
      "Iteration-Step: 28000\n",
      "\tAverage loss:\t 12.90453151077032 \n",
      "\tlearning-rate:\t 0.15472907\n",
      "Iteration-Step: 30000\n",
      "\tAverage loss:\t 12.706519684404135 \n",
      "\tlearning-rate:\t 0.14480837\n",
      "Iteration-Step: 32000\n",
      "\tAverage loss:\t 12.38506476098299 \n",
      "\tlearning-rate:\t 0.136686\n",
      "Iteration-Step: 34000\n",
      "\tAverage loss:\t 11.547031800329686 \n",
      "\tlearning-rate:\t 0.13003595\n",
      "Iteration-Step: 36000\n",
      "\tAverage loss:\t 11.171051721394061 \n",
      "\tlearning-rate:\t 0.12459136\n",
      "Iteration-Step: 38000\n",
      "\tAverage loss:\t 11.037513100981712 \n",
      "\tlearning-rate:\t 0.1201337\n",
      "Iteration-Step: 40000\n",
      "\tAverage loss:\t 10.359605598032475 \n",
      "\tlearning-rate:\t 0.116484076\n",
      "Iteration-Step: 42000\n",
      "\tAverage loss:\t 10.323130924880505 \n",
      "\tlearning-rate:\t 0.11349602\n",
      "Iteration-Step: 44000\n",
      "\tAverage loss:\t 10.179173205077648 \n",
      "\tlearning-rate:\t 0.11104961\n",
      "Iteration-Step: 46000\n",
      "\tAverage loss:\t 9.996357643604279 \n",
      "\tlearning-rate:\t 0.10904665\n",
      "Iteration-Step: 48000\n",
      "\tAverage loss:\t 9.236064119488 \n",
      "\tlearning-rate:\t 0.10740678\n",
      "Iteration-Step: 50000\n",
      "\tAverage loss:\t 9.346576161056756 \n",
      "\tlearning-rate:\t 0.106064156\n",
      "Iteration-Step: 52000\n",
      "\tAverage loss:\t 8.914405110001564 \n",
      "\tlearning-rate:\t 0.10496491\n",
      "Iteration-Step: 54000\n",
      "\tAverage loss:\t 8.85634172463417 \n",
      "\tlearning-rate:\t 0.10406493\n",
      "Iteration-Step: 56000\n",
      "\tAverage loss:\t 8.828030062556266 \n",
      "\tlearning-rate:\t 0.10332808\n",
      "Iteration-Step: 58000\n",
      "\tAverage loss:\t 8.525127937227488 \n",
      "\tlearning-rate:\t 0.102724805\n",
      "Iteration-Step: 60000\n",
      "\tAverage loss:\t 8.452899291038513 \n",
      "\tlearning-rate:\t 0.10223088\n",
      "Iteration-Step: 62000\n",
      "\tAverage loss:\t 8.422081754922868 \n",
      "\tlearning-rate:\t 0.10182649\n",
      "Iteration-Step: 64000\n",
      "\tAverage loss:\t 8.189644276916981 \n",
      "\tlearning-rate:\t 0.1014954\n",
      "Iteration-Step: 66000\n",
      "\tAverage loss:\t 8.173176119029522 \n",
      "\tlearning-rate:\t 0.10122433\n",
      "Iteration-Step: 68000\n",
      "\tAverage loss:\t 8.247105072557925 \n",
      "\tlearning-rate:\t 0.1010024\n",
      "Iteration-Step: 70000\n",
      "\tAverage loss:\t 8.13260419857502 \n",
      "\tlearning-rate:\t 0.1008207\n",
      "Iteration-Step: 72000\n",
      "\tAverage loss:\t 7.737237409025431 \n",
      "\tlearning-rate:\t 0.10067193\n",
      "Iteration-Step: 74000\n",
      "\tAverage loss:\t 7.833291697591543 \n",
      "\tlearning-rate:\t 0.10055013\n",
      "Iteration-Step: 76000\n",
      "\tAverage loss:\t 7.6439192340374 \n",
      "\tlearning-rate:\t 0.10045041\n",
      "Iteration-Step: 78000\n",
      "\tAverage loss:\t 7.5522708335518836 \n",
      "\tlearning-rate:\t 0.10036876\n",
      "Iteration-Step: 80000\n",
      "\tAverage loss:\t 7.706583710789681 \n",
      "\tlearning-rate:\t 0.10030192\n",
      "Iteration-Step: 82000\n",
      "\tAverage loss:\t 7.421509544432163 \n",
      "\tlearning-rate:\t 0.10024719\n",
      "Iteration-Step: 84000\n",
      "\tAverage loss:\t 7.4804016526937485 \n",
      "\tlearning-rate:\t 0.10020238\n",
      "Iteration-Step: 86000\n",
      "\tAverage loss:\t 7.29480698889494 \n",
      "\tlearning-rate:\t 0.100165695\n",
      "Iteration-Step: 88000\n",
      "\tAverage loss:\t 7.327615431070328 \n",
      "\tlearning-rate:\t 0.10013566\n",
      "Iteration-Step: 90000\n",
      "\tAverage loss:\t 7.429883550941944 \n",
      "\tlearning-rate:\t 0.10011107\n",
      "Iteration-Step: 92000\n",
      "\tAverage loss:\t 7.438534542769194 \n",
      "\tlearning-rate:\t 0.100090936\n",
      "Iteration-Step: 94000\n",
      "\tAverage loss:\t 7.280489279091358 \n",
      "\tlearning-rate:\t 0.100074455\n",
      "Iteration-Step: 96000\n",
      "\tAverage loss:\t 7.10294575124979 \n",
      "\tlearning-rate:\t 0.100060955\n",
      "Iteration-Step: 98000\n",
      "\tAverage loss:\t 7.0413191149234775 \n",
      "\tlearning-rate:\t 0.100049905\n",
      "Iteration-Step: 100000\n",
      "\tAverage loss:\t 7.073461381614208 \n",
      "\tlearning-rate:\t 0.10004086\n",
      "Iteration-Step: 102000\n",
      "\tAverage loss:\t 6.908021501749754 \n",
      "\tlearning-rate:\t 0.100033455\n",
      "Iteration-Step: 104000\n",
      "\tAverage loss:\t 7.02717098981142 \n",
      "\tlearning-rate:\t 0.10002739\n",
      "Iteration-Step: 106000\n",
      "\tAverage loss:\t 6.9202160157561305 \n",
      "\tlearning-rate:\t 0.10002243\n",
      "Iteration-Step: 108000\n",
      "\tAverage loss:\t 6.922544807076454 \n",
      "\tlearning-rate:\t 0.10001836\n",
      "Iteration-Step: 110000\n",
      "\tAverage loss:\t 6.769225891709327 \n",
      "\tlearning-rate:\t 0.10001503\n",
      "Iteration-Step: 112000\n",
      "\tAverage loss:\t 6.82255097013712 \n",
      "\tlearning-rate:\t 0.10001231\n",
      "Iteration-Step: 114000\n",
      "\tAverage loss:\t 6.950783757030964 \n",
      "\tlearning-rate:\t 0.100010075\n",
      "Iteration-Step: 116000\n",
      "\tAverage loss:\t 6.858613762259483 \n",
      "\tlearning-rate:\t 0.10000825\n",
      "Iteration-Step: 118000\n",
      "\tAverage loss:\t 6.897513135135174 \n",
      "\tlearning-rate:\t 0.10000676\n",
      "Iteration-Step: 120000\n",
      "\tAverage loss:\t 6.645435842633248 \n",
      "\tlearning-rate:\t 0.10000553\n",
      "Iteration-Step: 122000\n",
      "\tAverage loss:\t 6.65654279962182 \n",
      "\tlearning-rate:\t 0.10000453\n",
      "Iteration-Step: 124000\n",
      "\tAverage loss:\t 6.680052410453558 \n",
      "\tlearning-rate:\t 0.10000371\n",
      "Iteration-Step: 126000\n",
      "\tAverage loss:\t 6.532164891064167 \n",
      "\tlearning-rate:\t 0.100003034\n",
      "Iteration-Step: 128000\n",
      "\tAverage loss:\t 6.596140946388244 \n",
      "\tlearning-rate:\t 0.10000248\n",
      "Iteration-Step: 130000\n",
      "\tAverage loss:\t 6.574693857520819 \n",
      "\tlearning-rate:\t 0.100002035\n",
      "Iteration-Step: 132000\n",
      "\tAverage loss:\t 6.561567321717739 \n",
      "\tlearning-rate:\t 0.10000167\n",
      "Iteration-Step: 134000\n",
      "\tAverage loss:\t 6.431667263567448 \n",
      "\tlearning-rate:\t 0.100001365\n",
      "Iteration-Step: 136000\n",
      "\tAverage loss:\t 6.479477942466736 \n",
      "\tlearning-rate:\t 0.10000112\n",
      "Iteration-Step: 138000\n",
      "\tAverage loss:\t 6.488313880383968 \n",
      "\tlearning-rate:\t 0.10000092\n",
      "Iteration-Step: 140000\n",
      "\tAverage loss:\t 6.4528716408610345 \n",
      "\tlearning-rate:\t 0.10000075\n",
      "Iteration-Step: 142000\n",
      "\tAverage loss:\t 6.657196033835411 \n",
      "\tlearning-rate:\t 0.10000061\n",
      "Iteration-Step: 144000\n",
      "\tAverage loss:\t 6.389708327382803 \n",
      "\tlearning-rate:\t 0.1000005\n"
     ]
    }
   ],
   "source": [
    "with tf.Session(graph=graph) as session:\n",
    "    # Initialisieren alle Variablen\n",
    "    init.run()\n",
    "  \n",
    "    average_loss = 0\n",
    "  \n",
    "    # Training:\n",
    "    for step in xrange(num_steps):\n",
    "        # generieren der Batches\n",
    "        batch_inputs, batch_labels = generate_batch(batch_size, targets_list, labels_list)\n",
    "        feed_dict = {train_inputs: batch_inputs, train_labels: batch_labels, iteration: step}\n",
    "    \n",
    "        # Ausführen eines einzelnen Update Steps, durch Evaluierung des GradientDescent Optimizers\n",
    "        # Minimieren des Loss und Updaten der Gewichte\n",
    "        _, loss_val, learn_rate = session.run(\n",
    "            [optimizer, loss, lr],\n",
    "            feed_dict=feed_dict)\n",
    "    \n",
    "        average_loss += loss_val\n",
    "        \n",
    "        # print Lernrate\n",
    "        if step % print_every_x_step == 0: \n",
    "            if step > 0:\n",
    "                average_loss /= print_every_x_step\n",
    "            print('Iteration-Step:', step)\n",
    "            print('\\tAverage loss:\\t', average_loss, '\\n\\tlearning-rate:\\t', learn_rate)\n",
    "            average_loss = 0\n",
    "        \n",
    "    # Generierte Embeddings für weitere Schritte verfügbar machen:\n",
    "    #final_embeddings = normalized_embeddings.eval() # --> Disabled\n",
    "    final_embeddings = embeddings.eval()\n",
    "    "
   ]
  },
  {
   "cell_type": "markdown",
   "metadata": {},
   "source": [
    "# Dokumenten-Vektoren generieren:\n",
    "Die im vorherigen Schritt trainierten Word-Embeddings können nun genutzt werden, um pro Anfragetext einen Dokumenten-Vektor aus den Word-Embeddings der jeweiligen Wörter des Textes abzuleiten.\n",
    "Dabei werden alle Word-Embeddings eines Dokuments spaltenweise gemittelt, um dieses Dokument dann anhand eines einzelnen Vektors zu repräsentieren."
   ]
  },
  {
   "cell_type": "code",
   "execution_count": 28,
   "metadata": {},
   "outputs": [],
   "source": [
    "def get_doc_embedding(doc):\n",
    "    '''\n",
    "    Generiert Dokumenten-Vektor für ein Dokument, abhängig von den zugehörigen Word-Embeddings\n",
    "    :param doc: Liste aller Sätze mit preprocessed Words\n",
    "    :return: Dokumenten-Vektor\n",
    "    '''\n",
    "    word_vecs = np.array([\n",
    "        final_embeddings[word_2_index_dict[word]] for sent in doc for word in sent if word in word_2_index_dict\n",
    "    ])\n",
    "    return np.mean(word_vecs, axis=0)"
   ]
  },
  {
   "cell_type": "markdown",
   "metadata": {},
   "source": [
    "### Dokumenten-Vektoren für alle Anfragen generieren:"
   ]
  },
  {
   "cell_type": "code",
   "execution_count": 29,
   "metadata": {
    "scrolled": true
   },
   "outputs": [],
   "source": [
    "data['doc_vector'] = data['preprocessed'].apply(lambda prepr_text: get_doc_embedding(prepr_text) if prepr_text else np.nan)\n"
   ]
  },
  {
   "cell_type": "markdown",
   "metadata": {},
   "source": [
    "Aufgrund vereinzelter Fehler im Preprocessing entstehen einige Null-Rows die hier manuell korriegiert werden müssen:"
   ]
  },
  {
   "cell_type": "code",
   "execution_count": 30,
   "metadata": {},
   "outputs": [
    {
     "data": {
      "text/plain": [
       "description     0\n",
       "preprocessed    0\n",
       "textrank        0\n",
       "title           0\n",
       "doc_vector      7\n",
       "dtype: int64"
      ]
     },
     "execution_count": 30,
     "metadata": {},
     "output_type": "execute_result"
    }
   ],
   "source": [
    "data.isnull().sum()"
   ]
  },
  {
   "cell_type": "code",
   "execution_count": 31,
   "metadata": {},
   "outputs": [],
   "source": [
    "data.dropna(inplace=True)"
   ]
  },
  {
   "cell_type": "code",
   "execution_count": 32,
   "metadata": {},
   "outputs": [
    {
     "data": {
      "text/plain": [
       "description     0\n",
       "preprocessed    0\n",
       "textrank        0\n",
       "title           0\n",
       "doc_vector      0\n",
       "dtype: int64"
      ]
     },
     "execution_count": 32,
     "metadata": {},
     "output_type": "execute_result"
    }
   ],
   "source": [
    "data.isnull().sum()"
   ]
  },
  {
   "cell_type": "markdown",
   "metadata": {},
   "source": [
    "Auszug aus den Daten mit Dokumenten-Vektoren:"
   ]
  },
  {
   "cell_type": "code",
   "execution_count": 33,
   "metadata": {
    "scrolled": true
   },
   "outputs": [
    {
     "data": {
      "text/html": [
       "<div>\n",
       "<style scoped>\n",
       "    .dataframe tbody tr th:only-of-type {\n",
       "        vertical-align: middle;\n",
       "    }\n",
       "\n",
       "    .dataframe tbody tr th {\n",
       "        vertical-align: top;\n",
       "    }\n",
       "\n",
       "    .dataframe thead th {\n",
       "        text-align: right;\n",
       "    }\n",
       "</style>\n",
       "<table border=\"1\" class=\"dataframe\">\n",
       "  <thead>\n",
       "    <tr style=\"text-align: right;\">\n",
       "      <th></th>\n",
       "      <th>description</th>\n",
       "      <th>preprocessed</th>\n",
       "      <th>textrank</th>\n",
       "      <th>title</th>\n",
       "      <th>doc_vector</th>\n",
       "    </tr>\n",
       "    <tr>\n",
       "      <th>id</th>\n",
       "      <th></th>\n",
       "      <th></th>\n",
       "      <th></th>\n",
       "      <th></th>\n",
       "      <th></th>\n",
       "    </tr>\n",
       "  </thead>\n",
       "  <tbody>\n",
       "    <tr>\n",
       "      <th>131146</th>\n",
       "      <td>Die Stellungnahme des BfR zur IARC- Monographi...</td>\n",
       "      <td>[[stellungnahme, bfr], [iarc, monographie, gly...</td>\n",
       "      <td>[[stellungnahme, Stellungnahme, 1.0], [bfr, Bf...</td>\n",
       "      <td>Stellungnahme des BfR zur IARC- Monographie üb...</td>\n",
       "      <td>[0.20803703, 0.7861365, 0.07937395, 0.9910682,...</td>\n",
       "    </tr>\n",
       "    <tr>\n",
       "      <th>57261</th>\n",
       "      <td>1. Wie viele BAföG-Anträge wurden im Jahr 2018...</td>\n",
       "      <td>[[bafög-anträge, jahr, studierendenwerk, heide...</td>\n",
       "      <td>[[bafög-anträge, BAföG-Anträge, 1.0], [jahr, J...</td>\n",
       "      <td>BAföG-Anträge 2018</td>\n",
       "      <td>[0.2820934, 0.5665125, 0.44810534, 0.64208525,...</td>\n",
       "    </tr>\n",
       "    <tr>\n",
       "      <th>8808</th>\n",
       "      <td>alle Informationen (einschließlich handschrift...</td>\n",
       "      <td>[[treffen, großmann-pofalla], [information, no...</td>\n",
       "      <td>[[chef, Chef, 1.1545347222], [jürgen, Jürgen, ...</td>\n",
       "      <td>Treffen Großmann-Pofalla</td>\n",
       "      <td>[0.18752542, 0.46880367, 0.2282555, 0.5298405,...</td>\n",
       "    </tr>\n",
       "    <tr>\n",
       "      <th>28691</th>\n",
       "      <td>* Sicherheitsaudit / Analyse von 18 Kryptobibl...</td>\n",
       "      <td>[[sicherheitsaudits, projekt], [implementierun...</td>\n",
       "      <td>[[o.g., o.g., 1.3899324405], [analyse, Analyse...</td>\n",
       "      <td>Sicherheitsaudits des Projekts \"Sichere Implem...</td>\n",
       "      <td>[0.0462304, 0.49956003, 0.21240892, 0.7752212,...</td>\n",
       "    </tr>\n",
       "    <tr>\n",
       "      <th>11089</th>\n",
       "      <td>Senden Sie mir bitte nach Aktueller Rechtsgrun...</td>\n",
       "      <td>[[verjährungsfristen, rechtsgrundlagen, jobcen...</td>\n",
       "      <td>[[verjährungsfristen, Verjährungsfristen, 1.51...</td>\n",
       "      <td>Verjährungsfristen und deren Rechtsgrundlagen ...</td>\n",
       "      <td>[0.14563492, 0.5161759, -0.07634959, 0.8205145...</td>\n",
       "    </tr>\n",
       "  </tbody>\n",
       "</table>\n",
       "</div>"
      ],
      "text/plain": [
       "                                              description  \\\n",
       "id                                                          \n",
       "131146  Die Stellungnahme des BfR zur IARC- Monographi...   \n",
       "57261   1. Wie viele BAföG-Anträge wurden im Jahr 2018...   \n",
       "8808    alle Informationen (einschließlich handschrift...   \n",
       "28691   * Sicherheitsaudit / Analyse von 18 Kryptobibl...   \n",
       "11089   Senden Sie mir bitte nach Aktueller Rechtsgrun...   \n",
       "\n",
       "                                             preprocessed  \\\n",
       "id                                                          \n",
       "131146  [[stellungnahme, bfr], [iarc, monographie, gly...   \n",
       "57261   [[bafög-anträge, jahr, studierendenwerk, heide...   \n",
       "8808    [[treffen, großmann-pofalla], [information, no...   \n",
       "28691   [[sicherheitsaudits, projekt], [implementierun...   \n",
       "11089   [[verjährungsfristen, rechtsgrundlagen, jobcen...   \n",
       "\n",
       "                                                 textrank  \\\n",
       "id                                                          \n",
       "131146  [[stellungnahme, Stellungnahme, 1.0], [bfr, Bf...   \n",
       "57261   [[bafög-anträge, BAföG-Anträge, 1.0], [jahr, J...   \n",
       "8808    [[chef, Chef, 1.1545347222], [jürgen, Jürgen, ...   \n",
       "28691   [[o.g., o.g., 1.3899324405], [analyse, Analyse...   \n",
       "11089   [[verjährungsfristen, Verjährungsfristen, 1.51...   \n",
       "\n",
       "                                                    title  \\\n",
       "id                                                          \n",
       "131146  Stellungnahme des BfR zur IARC- Monographie üb...   \n",
       "57261                                  BAföG-Anträge 2018   \n",
       "8808                             Treffen Großmann-Pofalla   \n",
       "28691   Sicherheitsaudits des Projekts \"Sichere Implem...   \n",
       "11089   Verjährungsfristen und deren Rechtsgrundlagen ...   \n",
       "\n",
       "                                               doc_vector  \n",
       "id                                                         \n",
       "131146  [0.20803703, 0.7861365, 0.07937395, 0.9910682,...  \n",
       "57261   [0.2820934, 0.5665125, 0.44810534, 0.64208525,...  \n",
       "8808    [0.18752542, 0.46880367, 0.2282555, 0.5298405,...  \n",
       "28691   [0.0462304, 0.49956003, 0.21240892, 0.7752212,...  \n",
       "11089   [0.14563492, 0.5161759, -0.07634959, 0.8205145...  "
      ]
     },
     "execution_count": 33,
     "metadata": {},
     "output_type": "execute_result"
    }
   ],
   "source": [
    "data.head()"
   ]
  },
  {
   "cell_type": "markdown",
   "metadata": {},
   "source": [
    "# Cosine Similarity:\n",
    "Cosine Similarity ist eine gängige Möglichkeit, um die Ähnlichkeit zweier Vektoren zu ermitteln. Mithilfe des Abstandswinkels zwischen den beiden Vektoren wird ein Wert zwischen 0 und 1 erzeugt, welcher das Ähnlichkeitsmaß ausdrückt. Einfache, 2-Dimensionale Vektoren können hierbei noch per Hand errechnet werden. Cosine-Similarity funktioniert jedoch mit einer beliebigen Anzahl von Vektor-Dimensionen und ist somit für den Vergleich unserer Dokumenten- oder Wort-Vektoren hervorragend geeignet.\n",
    "\n",
    "Formel:\n",
    "![image](Images/Cosine_Similarity_Formula.png)\n",
    "\n",
    "\n",
    "Quelle: [CSM]\n",
    "\n",
    "Beispiel:\n",
    "\n",
    "|Person/Eigenschaft|  EG1 \t| EG2 \t|  EG3 \t|\n",
    "|:-----------:\t|:----:\t|:---:\t|:----:\t|\n",
    "|  Konstantin \t| 10 \t| 50 \t|  200 \t|\n",
    "|  Sebastian  \t|  400 \t| 100 \t| 20 \t|\n",
    "| Prof. Herta \t|  10 \t| 5 \t|  1 \t|\n",
    "\n",
    "Ähnlichkeit von Konstantin und Sebastian: <br>\n",
    "Cosine_Similarity ( [10,50,200] , [400, 100, 20]) = 0.15\n",
    "\n",
    "Ähnlichkeit von Sebastian und Prof. Herta: <br>\n",
    "Cosine_Similarity ( [400, 100, 20], [10, 5, 1]) = 0.23\n",
    "\n",
    "Ähnlichkeit von Konstantin und Prof. Herta: <br>\n",
    "Cosine_Similarity ( [10,50,200], [10, 5, 1]) = 0.77"
   ]
  },
  {
   "cell_type": "code",
   "execution_count": 34,
   "metadata": {},
   "outputs": [],
   "source": [
    "def similarity(v1, v2):\n",
    "    n1 = np.linalg.norm(v1)\n",
    "    n2 = np.linalg.norm(v2)\n",
    "    return np.dot(v1, v2) / n1 / n2"
   ]
  },
  {
   "cell_type": "markdown",
   "metadata": {},
   "source": [
    "Negativbeispiel für Vergleich unterschiedlicher Wörter:"
   ]
  },
  {
   "cell_type": "code",
   "execution_count": 35,
   "metadata": {},
   "outputs": [
    {
     "name": "stdout",
     "output_type": "stream",
     "text": [
      "cosine similarity for herausgabe and bekleidung\n",
      "\t 0.46780965\n"
     ]
    }
   ],
   "source": [
    "word1 = 'herausgabe'\n",
    "word2 = 'bekleidung'\n",
    "print('cosine similarity for', word1, 'and', word2)\n",
    "print('\\t', similarity(final_embeddings[word_2_index_dict[word1]], final_embeddings[word_2_index_dict[word2]]))"
   ]
  },
  {
   "cell_type": "markdown",
   "metadata": {},
   "source": [
    "Positivbeispiel für Vergleich ähnlicher Wörter:"
   ]
  },
  {
   "cell_type": "code",
   "execution_count": 36,
   "metadata": {},
   "outputs": [
    {
     "name": "stdout",
     "output_type": "stream",
     "text": [
      "cosine similarity for bfr and iarc\n",
      "\t 0.6971878\n"
     ]
    }
   ],
   "source": [
    "word1 = 'bfr'\n",
    "word2 = 'iarc' # beide Kürzel stehen in Zusammenhang durch Verwendung in Glyphosatberichten\n",
    "print('cosine similarity for', word1, 'and', word2)\n",
    "print('\\t', similarity(final_embeddings[word_2_index_dict[word1]], final_embeddings[word_2_index_dict[word2]]))"
   ]
  },
  {
   "cell_type": "markdown",
   "metadata": {},
   "source": [
    "#### Vergleich von Dokumentenvektoren:"
   ]
  },
  {
   "cell_type": "code",
   "execution_count": 37,
   "metadata": {},
   "outputs": [],
   "source": [
    "def doc_similarity(df, id_1, id_2):\n",
    "    print('Doc #1:')\n",
    "    print('\\tTitel:', df.loc[id_1]['title'])\n",
    "    \n",
    "    print('\\nDoc #2:')\n",
    "    print('\\tTitel:', df.loc[id_2]['title'])\n",
    "    \n",
    "    print('\\nSimilarity [0-1]:', similarity(df.loc[id_1]['doc_vector'], df.loc[id_2]['doc_vector']))"
   ]
  },
  {
   "cell_type": "markdown",
   "metadata": {},
   "source": [
    "Positivbeispiel für Vergleich ähnlicher Dokumente:"
   ]
  },
  {
   "cell_type": "code",
   "execution_count": 38,
   "metadata": {
    "scrolled": true
   },
   "outputs": [
    {
     "name": "stdout",
     "output_type": "stream",
     "text": [
      "Doc #1:\n",
      "\tTitel: Kontrollbericht zu Bartz, Arzfeld\n",
      "\n",
      "Doc #2:\n",
      "\tTitel: Kontrollbericht zu Mamma Italia, Esslingen am Neckar\n",
      "\n",
      "Similarity [0-1]: 0.95977294\n"
     ]
    }
   ],
   "source": [
    "doc_similarity(data, 58945, 48729)"
   ]
  },
  {
   "cell_type": "markdown",
   "metadata": {},
   "source": [
    "Negativbeispiel für Vergleich unterschiedlicher Dokumente:"
   ]
  },
  {
   "cell_type": "code",
   "execution_count": 39,
   "metadata": {
    "scrolled": true
   },
   "outputs": [
    {
     "name": "stdout",
     "output_type": "stream",
     "text": [
      "Doc #1:\n",
      "\tTitel: Kontrollbericht zu Bartz, Arzfeld\n",
      "\n",
      "Doc #2:\n",
      "\tTitel: Ortsumgehung Barnstorf, Landreis Diepholz\n",
      "\n",
      "Similarity [0-1]: 0.7648682\n"
     ]
    }
   ],
   "source": [
    "doc_similarity(data, 58945, 58948)"
   ]
  },
  {
   "cell_type": "markdown",
   "metadata": {},
   "source": [
    "## t-SNE"
   ]
  },
  {
   "cell_type": "markdown",
   "metadata": {},
   "source": [
    "Mit den errechneten Document-Embeddings erhalten wir eine hochdimensionale (in unserem Fall 300) und komplexe Datenmatrix, die sich dank des t-SNE Algorithmus in geringeren Dimensionen, meist 2- oder 3-dimensional, visualisieren lässt. Natürlich erzeugt diese Verringerung einen gewissen Informationsverlust, der wie im folgendem Beschrieben möglichst gering gehalten werden soll. Eine Darstellung unserer Document-Embeddings mittels t-SNE ist besonders geeignet um Strukturen im visualisierten Datensatz, wie lokale Nachbarschaften oder Wort-/Dokumenten-Gruppierung, zu erkennen. Ähnliche Anfragen werden sich somit voraussichtlich clustern und es entsteht eine dreidimensionale Visualisierung, die einen ersten Überblick über die semantischen Zusammenhänge zwischen den Anfragetexten gibt.\n",
    "\n",
    "## t-SNE Grundprinzip:\n",
    "Wie so oft, muss das Rad nicht neu erfunden werden und man kann eine optimierte Implementierung des t-SNE bereits über das sklearn-kit beziehen. Um zu verstehen, was sich im Hintergrund abspielt, hier ein Versuch die Funktionsweise anhand eines Beispiels zu erläutern:\n",
    "\n",
    "**Das Ziel**: Punkte aus dem 2-dimensionalen Raum, 1-dimensional darzustellen.\n",
    "\n",
    "<img src=\"Images/tSNE_Ziel.png\" alt=\"drawing\" width=\"300\"/>\n",
    "Quelle: [TSN]\n",
    "\n",
    "**Abstände Messen:** Dazu wird ein Punkt in den Fokus genommen und die Abstände zu den anderen Punkten wird normalverteilt gemessen. Aus der höheren Dimension wird also die Entfernung auf der reduzierten Dimension abgebildet und dann die Entfernung zur Normalverteilungskurve gemessen.\n",
    "\n",
    "<img src=\"Images/tSNE_Normalverteilt.png\" alt=\"drawing\" width=\"300\"/>\n",
    "Quelle: [TSN]\n",
    "\n",
    "**Normalverteilung in Matrix überführen:** Dadurch ist es möglich, eine Matrix aufzubauen, wo zu jedem Punkt die Entfernung zu einem anderen Punkt (bzw. dessen Entfernung zur Normalverteilungskurve) abgebildet werden kann. Eine Entfernung von einem Punkt zu sich selbst macht hierbei natürlich keinen Sinn.\n",
    "\n",
    "<img src=\"Images/tSNE_Matrix1.png\" alt=\"drawing\" width=\"300\"/>\n",
    "Quelle: [TSN]\n",
    "\n",
    "**Wiederholung mit t-Verteilung:** Im nächsten Schritt wird der gesamte Prozess bis hierhin wiederholt, jedoch nicht mit der t-Verteilung und einem Freiheitsgrad (Cauchy-Verteilung) anstelle der Normalverteilung. Es entsteht eine weit unpräzisere Anordnung der Punkte in unserer t-Matrix:\n",
    "\n",
    "<img src=\"Images/tSNE_Matrix2.png\" alt=\"drawing\" width=\"300\"/>\n",
    "Quelle: [TSN]\n",
    "\n",
    "Auch auf die x-Achse projiziert ergeben die Entfernungen (noch) keinen Sinn:\n",
    "\n",
    "<img src=\"Images/tSNE_t_map.png\" alt=\"drawing\" width=\"300\"/>\n",
    "Quelle: [TSN]\n",
    "\n",
    "**t-Verteilung und Normalverteilung angleichen:** Im nächsten Schritt versuchen wir, die Punkte in der niedrigeren Dimension (hier: 1-D, bzw. x-Achse) der t-Verteilung so lange zu verschieben, bis dieser denen, der Normalverteilung gleichen. Dazu schiebt der t-SNE Algorithmus immer einen Punkt in der Matrix näher an seine Ziel-Koordinate und vollzieht den gleichen Schritt auf der x-Achse.\n",
    "\n",
    "<img src=\"Images/tSNE_t_finish.png\" alt=\"drawing\" width=\"300\"/>\n",
    "Quelle: [TSN]\n",
    "\n",
    "**Weiterer Verlauf:** Im Beispiel wurde von 2- auf 1-Dimensionalität reduziert. Voreingestellte Parameter im Notebook trainieren jedoch Word-Embeddings mit deutlich mehr Dimensionen (hier: 300). Schrittweise reduziert t-SNE die Dimensionen, eine nach der anderen, bis zur gewünschten Ziel-Dimension. Für normale Bildschirme wären das die Dimensionen 1-3 (Beispiel siehe folgende Kapitel).\n",
    "\n",
    "\n",
    "### Warum wird die t-Verteilung hier benötigt? \n",
    "Hier wird es kompliziert: Das zugrunde liegende Verfahren erfordert ein tiefer gehendes mathematisches Verständnis von Verteilungsfunktionen und sprengt den Rahmen des Notebooks. Hilfreiche Links und Sekundärliteratur finden sich [hier](https://www.oreilly.com/learning/an-illustrated-introduction-to-the-t-sne-algorithm) und [hier](http://www.jmlr.org/papers/volume9/vandermaaten08a/vandermaaten08a.pdf). \n",
    "<br><br>Eine kurze Erklärung in eigenen Worten:\n",
    "Der Ansatz für die Nutzung der t-Verteilung liegt im Unterschied der Verteilungsfunktionen. \n",
    "Würde beim Reduzieren der Dimensionen eines Datensatzes die Normalverteilung herangezogen werden, so käme es zu einer Disbalance der Verteilung von Punkten und deren Distanz zu Ihren Nachbarn. Der Grund hierfür ist der große Unterschied des Maßes einer Entfernung in unterschiedlichen Dimensionen, welche der Algorithmus versucht abzubilden. Um dieser Divergenz an Maßen gerecht zu werden, nutzt t-SNE die t-Verteilung (daher auch das \"t\"), welche in den Außenbereichen einen viel geringeren Abstieg hat und generell flacher und nicht so intensiv gipfelnd ist wie die Normalverteilung. Konkret bedeutet das: Trotzdem zwei Punkte in der Ausgangsdimension sehr weit voneinander entfernt sind, können diese in der niedrigeren Dimension eine Ähnlichkeit aufweisen.\n",
    "Quelle: [TDS]\n",
    "\n",
    "### Hyperparameter\n",
    "\n",
    "Neben den Input-Daten, der Zieldimension und der Lern-Rate gibt es zwei entscheidende Parameter, die helfen, das meiste aus t-SNE herauszuholen: Perplexity und Iterationsanzahl.\n",
    "\n",
    "Beim Tunen der **Anzahl an Iterationen** konnten auf den FragDenStaat Datensatz beste Ergebnisse bei ca. 1000 Iterationen festgestellt werden. Diese Zahl stellt jedoch keine fixe Empfehlung dar und muss je nach Grunddatenmenge und Struktur des Datensatzes ausprobiert und angepasst werden. Am Beispiel in der folgenden Grafik lässt sich demonstrativ erkennen, dass bei zu wenigen Iterationen eine schlechte, punktlastige Gruppierung erfolgt. Tritt dieses Symptom beim Plotten der Graphen auf, so ist höchstwahrscheinlich das Training zu früh beendet worden. \n",
    "\n",
    "<img src=\"Images/tSNE_iterations.png\" alt=\"drawing\" width=\"1000\"/>\n",
    "Quelle: [HYP] \n",
    "\n",
    "\n",
    "**Perplexity**, dass zweite wichtige Feature bei der Feineinstellung des t-SNE bestimmt, wie die Gewichtung von lokalen und globalen Eigenschaften der Punkte in unserem Datensatz in die Erstellung der niedrig-dimensionalen Plots mit einfließen soll. Die Auswirkungen verschiedener Werte bei der perplexity sind weitreichend und zugleich nur schwer nachvollziehbar. Während des Trainings wurde hier mit viel Try-And-Error ein idealer Wert versucht anzunähern (hier: 25). Im bebilderten Beispiel wird ein Datensatz mit zwei Clustern und unterschiedlichen Perplexity-Werten (2-100) mittels t-SNE neu berechnet. Im Paper [TODO]: Quelle [\"Visualizing Data using t-SNE\"](http://www.jmlr.org/papers/volume9/vandermaaten08a/vandermaaten08a.pdf) wird empfohlen, die Perplexity-Werte zwischen fünf und 50 zu initialisieren. Im Beispiel können wir das ursprüngliche Clustering, wenn auch in unterschiedlichen Formen und Intensitäten, gut nachvollziehen. Werte außerhalb dieses empfohlenen Bereichs erzeugen aber gänzlich andere Strukturen. Zu geringe Perplexity-Werte (2) zeigen Cluster mit zu hoher lokaler Dominanz. Bei zu hohen Perplexity-Werten (100) werden die beiden Cluster vereint und können gar nicht mehr unterschieden werden.\n",
    "Abschließend lässt sich zusammenfassen, dass der Perplexity-Wert eine grobe Richtung vorgibt, wie viele enge Nachbarn ein Punkt unseres Datensatzes hat und individuell für jeden Datensatz ermittelt werden muss.\n",
    "\n",
    "<img src=\"Images/tSNE_perplexity.png\" alt=\"drawing\" width=\"1000\"/>\n",
    "Quelle: [HYP]"
   ]
  },
  {
   "cell_type": "code",
   "execution_count": 40,
   "metadata": {},
   "outputs": [],
   "source": [
    "def compute_tsne_doc(data_df, amount, dimension=2, perplexity=30, learning_rate=200, n_iter=5000):\n",
    "    '''\n",
    "    Berechnet t-SNE Embeddings für zufällige Stichprobe aus dem Set der Anfragetexte\n",
    "    :param data_df: pandas DataFrame mit Spalte 'doc_vector' und 'title'\n",
    "    :param amount: Größe der Stichprobe\n",
    "    :param dimension: 2 für 2D oder 3 für 3D\n",
    "    '''\n",
    "    tsne = TSNE(perplexity=perplexity, learning_rate=learning_rate, n_components=dimension, init='pca', n_iter=n_iter, method='exact', verbose=1)\n",
    "    sample = data_df.sample(n=amount)\n",
    "\n",
    "    doc_vecs = np.array([doc_vec for doc_vec in sample['doc_vector'].values])\n",
    "    tsne_embeddings = tsne.fit_transform(doc_vecs)\n",
    "\n",
    "    labels = sample['title'].values\n",
    "    return tsne_embeddings, labels\n",
    "    "
   ]
  },
  {
   "cell_type": "markdown",
   "metadata": {},
   "source": [
    "### Interaktiver 2D/3D Plot mit ploty\n",
    "Mithilfe von Plotly können wir nun einen ersten 2- oder 3-Dimensionalen Plot unserer Daten die mittels t-SNE errechnet wurden, versuchen."
   ]
  },
  {
   "cell_type": "code",
   "execution_count": 41,
   "metadata": {},
   "outputs": [],
   "source": [
    "def plotly_plot_tsne(tsne_embeddings, labels, dimension=3):\n",
    "    \n",
    "    marker=dict(\n",
    "                size=6,\n",
    "                line=dict(\n",
    "                    color='rgb(225, 225, 225)',\n",
    "                    width=0.5\n",
    "                ),\n",
    "                opacity=1\n",
    "            )\n",
    "    \n",
    "    if dimension==3:\n",
    "        x, y, z = zip(*tsne_embeddings)\n",
    "        \n",
    "        trace1 = go.Scatter3d(\n",
    "            x=x,\n",
    "            y=y,\n",
    "            z=z,\n",
    "            mode='markers',\n",
    "            marker=marker,\n",
    "            text=labels,\n",
    "            hoverinfo='text'\n",
    "        )\n",
    "    else:\n",
    "        x, y = zip(*tsne_embeddings)\n",
    "        \n",
    "        trace1 = go.Scatter(\n",
    "            x=x,\n",
    "            y=y,\n",
    "            mode='markers',\n",
    "            marker=marker,\n",
    "            text=labels,\n",
    "            hoverinfo='text'\n",
    "        )\n",
    "    \n",
    "    \n",
    "\n",
    "    data = [trace1]\n",
    "    layout = go.Layout(\n",
    "        margin=dict(\n",
    "            l=0,\n",
    "            r=0,\n",
    "            b=0,\n",
    "            t=0\n",
    "        ),\n",
    "        xaxis = dict(\n",
    "            zeroline = False\n",
    "        ),\n",
    "        yaxis = dict(\n",
    "            zeroline = False\n",
    "        ),\n",
    "        width=1000,\n",
    "        height=800,\n",
    "        #paper_bgcolor= 'rgb(240, 240, 240)',\n",
    "        #plot_bgcolor= 'rgb(240, 240, 240)'\n",
    "    )\n",
    "    fig = go.Figure(data=data, layout=layout)\n",
    "    iplot(fig)"
   ]
  },
  {
   "cell_type": "markdown",
   "metadata": {},
   "source": [
    "# 3D TSNE Visualisierung für Stichprobe von Anfragen\n",
    "Im finalen Abschnitt des Notebooks reduzieren wir die Dimensionen einer Stichprobe (Umfang: 200 Dokumente) mittels t-SNE auf 3D und visualisieren diese dann mit Plotly interaktiv.\n",
    "Reduzierte Stichprobengröße aufgrund von limitierter Hardware, da t-SNE sehr rechenintensiv ist.\n",
    "\n",
    "**Achtung:** Hier gibt es nur Ergebnisse zu sehen, wenn das Notebook lokal ausgeführt wird, das Modell trainiert und der Datensatz eingeladen wurde. Eine Darstellung auf GitHub selbst ist somit leider nicht möglich.\n",
    "Auf eine 2D-Darstellung wurde in diesem Fall verzichtet, wäre mit der gleichen Funktion aber auch möglich."
   ]
  },
  {
   "cell_type": "code",
   "execution_count": 42,
   "metadata": {},
   "outputs": [
    {
     "name": "stdout",
     "output_type": "stream",
     "text": [
      "[t-SNE] Computing pairwise distances...\n",
      "[t-SNE] Computed conditional probabilities for sample 200 / 200\n",
      "[t-SNE] Mean sigma: 0.880277\n",
      "[t-SNE] KL divergence after 250 iterations with early exaggeration: 48.113334\n",
      "[t-SNE] KL divergence after 1000 iterations: 0.221879\n"
     ]
    }
   ],
   "source": [
    "plot_x_docs = 200\n",
    "tsne_embeddings_3d, labels_3d = compute_tsne_doc(\n",
    "    data, \n",
    "    plot_x_docs, \n",
    "    dimension=3,\n",
    "    perplexity=25,\n",
    "    learning_rate=10,\n",
    "    n_iter=1000\n",
    ")"
   ]
  },
  {
   "cell_type": "markdown",
   "metadata": {},
   "source": [
    "**Interaktiver 3D Plot der t-SNE Embeddings**  \n",
    "* Linksklick: Rotieren\n",
    "* Rechtsklick: Verschieben\n",
    "* Mausrad: Zoom in/out\n",
    "* Hover über Punkt: Anzeige des Dokumenten-Titels\n",
    "\n",
    "Obwohl nur eine Stichprobengröße von 200 gewählt wurde, können lokale Ballungsgebiete, ähnlicher Dokumente gleicher Thematik, identifiziert werden (Hover über Punkt für Titelanzeige)."
   ]
  },
  {
   "cell_type": "code",
   "execution_count": 43,
   "metadata": {
    "scrolled": true
   },
   "outputs": [
    {
     "data": {
      "application/vnd.plotly.v1+json": {
       "config": {
        "linkText": "Export to plot.ly",
        "plotlyServerURL": "https://plot.ly",
        "showLink": false
       },
       "data": [
        {
         "hoverinfo": "text",
         "marker": {
          "line": {
           "color": "rgb(225, 225, 225)",
           "width": 0.5
          },
          "opacity": 1,
          "size": 6
         },
         "mode": "markers",
         "text": [
          "Stellungnahme von Verband der Automobilindustrie e.V zu Entwurf eines Gesetzes zur Änderung der Bestimmungen zur Stromerzeugung aus Kraft-Wärme-Kopplung und zur Eigenversorgung",
          "Kontrollbericht zu April, Berlin",
          "Kontrollbericht zu McDonald's, Flensburg",
          "Stellungnahme von Verein der Rechtspfleger im Bundesdienst e.V. (VRB) zu Gesetz zur Einführung einer Speicherpflicht und einer Höchstspeicherfrist für Verkehrsdaten",
          "Kontrollbericht zu caffetteria bar giuseppe, Kolbermoor",
          "Zwangsvollstreckungen in Sachen Rundfunkbeitrag",
          "Kontrollbericht zu Döner, Konstanz",
          "Kontrollbericht zu Pizzeria Waller Express, Aurich",
          "Kontrollbericht zu Pizzeria Napoli, Gladenbach",
          "Kontrollbericht zu Pizzeria Trattoria La Lucina, Duisburg",
          "Kontrollbericht zu Genießer Stube, Friedland",
          "Wie hoch ist die Quote der nachfolge Massnahmen bei deine Bewerbungs Check",
          "WD 3 - 235/11 – Modellprojekt zur optionalen Auszahlung eines Grundeinkommens anstelle der Leistungen der Künstlersozialversicherung",
          "Kontrollbericht zu Pasta e Olio, Würzburg",
          "Kosten der neuen Internetseite ",
          "Verweise an der Graf-Stauffenberg-Wirtschaftsschule",
          "Jobcenter Prignitz: Übersichtsliste aller Geschäftsanweisungen, Leitfäden, Arbeitshilfen und Informationen",
          "Kontrollbericht zu Agni, Berlin",
          "Stellungnahme des BfR zur IARC- Monographie über Glyphosat",
          "Abitur-Aufgaben im Fach Chemie im Jahr 2016 in Sachsen-Anhalt",
          "Brief von BM Seehofer an EU-Kommission zu Brexit",
          "Kontrollbericht zu Mensen und Cafeterien (Studentenwerk Oldenburg), Oldenburg",
          "Kontrollbericht zu Big Boost Burger, Dortmund",
          "Kontrollbericht zu Gasthaus Silberwald, Neu-Ulm",
          "Kontrollbericht zu An Nam, Leipzig",
          "Stellungnahme des BfR zur IARC- Monographie über Glyphosat",
          "Kontrollbericht zu Lidl, Obersulm",
          "Stellungnahme des BfR zur IARC- Monographie über Glyphosat",
          "Stellungnahme des BfR zur IARC- Monographie über Glyphosat",
          "Kontrollbericht zu Haus Windelen, Hückelhoven",
          "Visum",
          "Kontrollbericht zu Taverna Ousia, Berlin",
          "Sicherheitsaudits des Projekts \"Sichere Implementierung einer allgemeinen Kryptobibliothek\"",
          "Stellungnahme des BfR zur IARC- Monographie über Glyphosat",
          "Einkäufe aus dem \"Online-Shop der Werbe- und Sympathiekampagne\"",
          "Kontrollbericht zu Pizzeria Dilo, Witten",
          "Kontrollbericht zu Mamma mia, Papenburg",
          "Korrosionsschutztechnische Begutachtung Therme",
          "Kontrollbericht zu Anadolu Gastronomie GmbH",
          "Kontrollbericht zu REWE, Esslingen am Neckar",
          "Zielvereinbarung mit der Bundesagentur für Arbeit - Jobcenter Landkreis Landshut",
          "Stellungnahme des BfR zur IARC- Monographie über Glyphosat",
          "Informationen zu Abendessen mit Herrn Ackermann im April 2008",
          "Kontrollbericht zu Osteria Luce, Peine",
          "Kontrollbericht zu Zilan Kebaphaus, Joachimsthal",
          "Gutachten \"Rechtsfragen im Kontext der Abgeordnetenkorruption\"",
          "Verbaute Typen, Orte und Auswertungsarten von Videoüberwachungskameras in der neuen Universitätsbibliothek",
          "UIG-Anfrage: Übersicht von Umweltinformationen",
          "Kontrollbericht zu Der Grieche, Minden",
          "Kontrollbericht zu Tai Ping China Restaurant",
          "Kontrollbericht zu Harzer Schnitzelkönig, Langelsheim",
          "Sicherheitsaudits des Projekts \"Sichere Implementierung einer allgemeinen Kryptobibliothek\"",
          "PE 6 - 171/14 – Möglichkeiten eines Opt-Outs einzelner EU-Mitgliedstaaten...",
          "Übersicht über Umweltinformationen über Emissionen in die Umwelt",
          "Tätigkeit von Herrn Bürgermeister Otto als Kommunalbeirat der RWE",
          "„Ausarbeitung“ der Wissenschaftlichen Dienste des Bundestages zur Flüchtlingspolitik der großen Koalition.",
          "Kontrollbericht zu Goldene Krone, Darmstadt",
          "WD 3 - 340/07 – Zur Berücksichtigung der Wahlbeteiligung bei der Feststellung des Wahlergebnisses",
          "ABE für MOMO Lenkrad Typ BL 37 KBA Nr 70099",
          "Übersicht von Tagesordnungen der Innenministerkonferenz",
          "Stellungnahme von Förderverein freie Netzwerke e.V. zu Entwurf eines Gesetzes zur Änderung des Telemediengesetzes (Klarstellung WLAN-Haftung)",
          "Statistiken der Website-Aufrufe",
          "Kontrollbericht zu Altes Brauhaus zur Nette, Neuwied",
          "Kontrollbericht zu Der Pommesbauer, Oberhausen",
          "Telefonlisten des Jobcenters Rhein-Sieg",
          "Kontrollbericht zu Wimmer, München",
          "Terminkalender der nicht öffentlichen Termine/nicht presseöffentlichen Termine des Bundespräsidenten in der letzten Zeit/in den letzten Jahren",
          "Informationen zu Abendessen mit Herrn Ackermann im April 2008",
          "Abitur-Aufgaben im Fach Geographie im Jahr 2010 in Berlin und Brandenburg",
          "Weisungen des Jobcenters - Jobcenter Eisenach",
          "Antrag nach dem LIFG, LUIG, VIG / Energieverbrauch",
          "Kontrollbericht zu Die Metz Bistro & Brasserie, Blieskastel",
          "Stellungnahme des BfR zur IARC- Monographie über Glyphosat",
          "Stiftungs- und Industriekooperationen an der Universität Rostock",
          "Kontrollbericht zu KHH Süllberg",
          "Kontrollbericht zu Buffethaus, Kiel",
          "Kontrollbericht zu Landwirtschaft mit Hofverkauf Bersch, Rüsselsheim am Main",
          "Kontrollbericht zu Olympia, Bünde",
          "500-€-Banknote",
          "Datenbank gestohlene Fahrräder",
          "Referentenentwurf - Entwurf eines Gesetzes zum Vorschlag für eine Verordnung des Rates über das  Programm &quot;Europa für Bürgerinnen und Bürger&quot; für den Zeitraum 2014-2020",
          "Stellungnahme des BfR zur IARC- Monographie über Glyphosat",
          "Kontrollbericht zu Edeka Grümmer, Boostedt",
          "Instandhaltungskosten Beleuchtungsanlagen",
          "Studie \"zu den Political Net Activists\" des Instituts für Demoskopie in Allensbach",
          "Informationen über den Bergbau aus Mexiko",
          "WD 3 - 173/13 – Minderheitsregierung",
          "Informationen zu Abendessen mit Herrn Ackermann im April 2008",
          "Kontrollbericht zu Mahagoni, Kirchseeon",
          "Studie \"zu den Political Net Activists\" des Instituts für Demoskopie in Allensbach",
          "WD 3 - 217/14 – Behandlung unbegleiteter minderjähriger Flüchtlinge - Rechtslage und Verfahrenspraxis in Deutschland",
          "hinterlegte Ratifikationsurkunde der DDR zur UN- Kinderrechtskonvention von 1990",
          "Abitur-Aufgaben im Fach Biologie im Jahr 2013 in Nordrhein-Westfalen",
          "Kontrollbericht zu Metzgerei Ergenzinger, Stuttgart",
          "Stellungnahme von Verband der Bahnindustrie in Deutschland e.V. (VDB) zu Drittes Gesetz zur Änderung des Bundesschienenwegeausbaugesetzes",
          "WD 7 - 300/11 – Zweitverwertungsrechte bei wissenschaftlichen Werken",
          "Kontrollbericht zu Extrablatt, Mainz",
          "Kontrollbericht zu Ristorante Ferris, Berlin",
          "IS Terrorismusfinanzierung durch Bank of New York Mellon, Frankfurt am Main / New York über ihre Beteiligungsgesellschaft Capital Bank of Jordan",
          "temporäre Bedarfsgemeinschaft SGB XII wie bei SGB II?",
          "Abitur-Aufgaben im Fach Geschichte im Jahr 2015 in Nordrhein-Westfalen",
          "Monitoring der Systeme des BSI",
          "Stellungnahme des BfR zur IARC- Monographie über Glyphosat",
          "Förderung der Falling Walls Konferenz durch das BMBF",
          "Informationen zu Abendessen mit Herrn Ackermann im April 2008",
          "Standortbescheinigung",
          "Gutachten zu Umweltauswirkungen Fracking",
          "Kontrollbericht zu umoya, Annweiler am Trifels",
          "Sicherheitsaudits des Projekts \"Sichere Implementierung einer allgemeinen Kryptobibliothek\"",
          "Zielvereinbarung mit der Bundesagentur für Arbeit - Jobcenter Charlottenburg-Wilmersdorf",
          "Kontrollbericht zu Miss Vietnam, Nürnberg",
          "Kontrollbericht zu Donner, Leinfelden-Echterdingen",
          "Gutachten \"Rechtsfragen im Kontext der Abgeordnetenkorruption\"",
          "Stellungnahme von ZVEI - Zentralverband Elektrotechnik und Elektroindustrie e.V. zu Entwurf eines Gesetzes zur Erhöhung der Sicherheit informationstechnischer Systeme (IT-Sicherheitsgesetz)",
          "Breitbandausbau Otterberg",
          "Abitur-Aufgaben im Fach Geographie im Jahr 2018 in Nordrhein-Westfalen",
          "Kontrollbericht zu Villa Rustica Ristorante Italiano",
          "Vorlage zum Sponsoringbericht der Bundesregierung",
          "Kontrollbericht zu Zum Römer, Gau-Odernheim",
          "Kontrollbericht zu Kebabhaus, Nettetal",
          "Unterlagen zur Entlassung von StS Andrej Holm",
          "Europäisches Verwaltungsrecht - grenzüberschreitender Rechtsschutz - Art. 47 Charta der Grundrechte",
          "Aktenverzeichnis und IFG §11 - Bundesministerium für Arbeit und Soziales (Bund)",
          "erfolgte Funkzellenabfragen im Rahmen des G20 Treffens",
          "Kunstwerke im Bestand",
          "Kontrollbericht zu Restaurant bei Nino",
          "Kontrollbericht zu Lohmann, Kassel",
          "Kontrollbericht zu Ratskeller, Oldenburg",
          "Kontrollbericht zu Imbiss Diwan, Mainz",
          "Kontrollbericht zu Muckensee Café, Restaurant, Hotel, Lorch",
          "Stellungnahme von Bundesverband öffentlich bestellter und vereidigter sowie qualifizierter Sachverständiger e. V. zu BauGB-Novelle 2016",
          "Kontrollbericht zu Süleymann, Gießen",
          "Kontrollbericht zu Athena, Köln",
          "Kontrollbericht zu Schweinske, Norderstedt",
          "Kontrollbericht zu Seegartl, Emmering",
          "Gutachten \"Rechtsfragen im Kontext der Abgeordnetenkorruption\"",
          "Freiberufliche Honorarkräfte im Bundestag - Sozialleistungsmissbrauch durch die Bundestagsverwaltung?",
          "Kontrollbericht zu Mex. Imbiss El Amigo, Viernheim",
          "Kontrollbericht zu vierG Restaurant, Wathlingen",
          "Kontrollbericht zu Coffee Fellows, Ulm",
          "Kontrollbericht zu Wirtshaus Flößerei, Wolfratshausen",
          "Terminkalender des Bundesministers",
          "Übersicht der Kommentare zur Brandenburger Gesetzgebung",
          "Kontrollbericht zu Stadtcafé Ottensen, Hamburg",
          "Stellungnahme von Sozialverband Deutschland zu Gesetz zur Einführung einer Speicherpflicht und einer Höchstspeicherfrist für Verkehrsdaten",
          "Kontrollbericht zu China Chan, Ergolding",
          "WD 4 - 024/06 – Ökologische Steuerreform in Deutschland: Umsetzung, Pro und Contra, Konzepte. Ökosteuern in Europa",
          "Stellungnahme von ver.di zu Gesetz zur Einführung einer Speicherpflicht und einer Höchstspeicherfrist für Verkehrsdaten",
          "Anerkennung von Studienleistungen/Prüfungsleistungen aus Österreich",
          "Marktplatzsanierung",
          "Eine Liste aller Betriebe, die nach § 26 und § 28 BImSchG Emissionsmessungen durchführen lassen müssen",
          "Kontrollbericht zu La Bastille, Saarbrücken",
          "Ermittlungen gegen Zentrum für Politische Schönheit",
          "Kontrollbericht zu Kaiser Garden, Kassel",
          "Kontrollbericht zu Geschmacksbäcker Maser, Bempflingen",
          "Abituraufgabe NRW Mathematik 2018",
          "Kontrollbericht zu Pizzeria Capello Rosso, Essen",
          "Kontrollbericht zu Ziegelstrasse Döner, Lübeck",
          "Kontrollbericht zu Ginseng, Leipzig",
          "Kontrollbericht zu Edeka Tschoepe, Düsseldorf",
          "Deutscher Bundestag: 2013-08-28 WD-Gutachten Schutz vor Verhaftung von Zeugen vor einem Untersuchungsausschuss",
          "Gutachten \"Rechtsfragen im Kontext der Abgeordnetenkorruption\"",
          "Radwege",
          "historische Dokumente Beweissicherungs- und Dokumentationskräfte",
          "Stellungnahme von Arbeitsgemeinschaft Offshore-Windenergie e.V. zu Entwurf eines Gesetzes zur Weiterentwicklung des Strommarktes (StrommarktG)",
          "Kontrollbericht zu Zur Mainpfanne, Hanau",
          "Quellcode Software \"Wahlkreisauswertung\"",
          "Kontrollbericht zu mendo grill, Bad Oldesloe",
          "Gesamtrekultivierungsplan",
          "Jahresabschluss 2014",
          "Wasserversorgungskonzepte: Sachstand",
          "Ungenehmigte Baumfällungen",
          "Kontrollbericht zu Vapiano, Köln",
          "Verbleibszahen zu nicht beschulten schulpflichtigen Menschen im Schuljahr 2017/2018",
          "Besucherzahlen in Hamburger Museen",
          "Kontrollbericht zu Bowlingbahn, Sondershausen",
          "Anfrage gemäß IFG NRW Disziplinarmaßnahmen Lehrer u. andere Angestellte",
          "Stellungnahme des BfR zur IARC- Monographie über Glyphosat",
          "Kontrollbericht zu Marmaris Dürüm, Dresden",
          "Kontrollbericht zu Rosengarten, Oschersleben (Bode)",
          "Informationen zum \"Gemeinsamen Kompetenz- und Dienstleistungszentrum“ (GKDZ) zur Telekommunikationsüberwachung",
          "Öffentlicher Schlüssel",
          "Interne Weisungen Ausländerbehörde Bad Kreuznach",
          "Kontrollbericht zu Xin Yun, München",
          "Kontrollbericht zu Al Terrazzino, Frankfurt am Main",
          "Abitur-Aufgaben im Fach Geographie im Jahr 2012 in Nordrhein-Westfalen",
          "Breitband-Internetanschluss an Schulen",
          "Kontrollbericht zu Divakebap, Nürnberg",
          "Regelung sachliche und örtliche Zuständigkeit der Bundestagspolizei",
          "Stellungnahme zur Änderung der EuWG",
          "Gutachten \"Rechtsfragen im Kontext der Abgeordnetenkorruption\"",
          "Stellungnahme des BfR zur IARC- Monographie über Glyphosat",
          "Kontrollbericht zu Thai-China-Imbiss, Berlin",
          "WD 11 - 121/11 – Der Ankauf von Staatsanleihen durch die Europäische Zentralbank",
          "Anfrage zur Unterrichtungspflicht von Kommunalparlamenten",
          "terrestrisches Ortungssystem auf 243 MHz und 121.5 MHz #2",
          "Serologischer Nachweis von Borrelien/ Meldepflicht",
          "Herausgabe der internen Weisungen / Arbeitsanweisungen zur Kostenübernahme nach § 31 Abs. 6 SGB V (Cannabis)",
          "WD 3 - 404/08 – Aufstellung von Listenkandidaten einer Partei",
          "Kontrollbericht zu Netto Marken-Discount, Berlin"
         ],
         "type": "scatter3d",
         "uid": "ff50ee5f-3a81-432d-85df-198a07cf62de",
         "x": [
          3.5714023113250732,
          -11.430038452148438,
          -8.357851028442383,
          3.865046739578247,
          -6.886973857879639,
          6.574785232543945,
          -8.454387664794922,
          -3.658902883529663,
          -8.061716079711914,
          -8.149409294128418,
          -2.2209463119506836,
          10.1176176071167,
          7.549763202667236,
          -3.5486292839050293,
          1.5434613227844238,
          7.748147010803223,
          4.1282877922058105,
          -10.494401931762695,
          -2.3424839973449707,
          -0.9655086994171143,
          8.255820274353027,
          -1.9592454433441162,
          -4.108214378356934,
          -5.955902576446533,
          -7.761526107788086,
          -2.3424839973449707,
          -5.655768871307373,
          -2.3424839973449707,
          -2.3424839973449707,
          -6.573143005371094,
          5.677213668823242,
          -10.092801094055176,
          1.7419142723083496,
          -2.3424839973449707,
          9.274566650390625,
          -6.626175403594971,
          -2.4087133407592773,
          9.820058822631836,
          -5.5694122314453125,
          -5.964369773864746,
          4.2656168937683105,
          -2.3424839973449707,
          0.16202302277088165,
          -3.376394748687744,
          -4.547328472137451,
          -1.2851343154907227,
          8.553398132324219,
          2.5906713008880615,
          -6.80518913269043,
          -8.82363224029541,
          -3.1819655895233154,
          1.7419142723083496,
          7.361446380615234,
          2.3857979774475098,
          4.390354156494141,
          6.098174571990967,
          -5.2650465965271,
          7.063732624053955,
          9.43833065032959,
          7.728996276855469,
          3.9664394855499268,
          3.1561193466186523,
          -1.6171122789382935,
          -7.551920413970947,
          9.043237686157227,
          -10.433345794677734,
          6.281393527984619,
          0.16202303767204285,
          -0.2579815685749054,
          3.659306049346924,
          6.84525203704834,
          -2.8043136596679688,
          -2.3424839973449707,
          4.532413005828857,
          -7.940977573394775,
          -6.801695346832275,
          -1.8372904062271118,
          -9.209136962890625,
          7.7221150398254395,
          7.624178886413574,
          3.9212381839752197,
          -2.3424839973449707,
          -3.179642677307129,
          5.656383037567139,
          -0.1709129363298416,
          6.08024787902832,
          6.906872272491455,
          0.16202302277088165,
          -4.875046730041504,
          -0.1709129363298416,
          5.41992712020874,
          8.888134956359863,
          -0.40154504776000977,
          -10.702223777770996,
          3.8416788578033447,
          7.2825703620910645,
          -9.087505340576172,
          -10.908879280090332,
          7.55061149597168,
          6.913736343383789,
          -0.8789663910865784,
          6.159602642059326,
          -1.523045539855957,
          7.46734094619751,
          0.16202302277088165,
          7.628828525543213,
          2.679722309112549,
          -4.474207878112793,
          1.7416276931762695,
          4.23272180557251,
          -5.1118855476379395,
          -8.045575141906738,
          -1.1778877973556519,
          3.9647953510284424,
          10.680755615234375,
          -0.3861815631389618,
          -2.9585187435150146,
          4.024835586547852,
          -5.2508978843688965,
          -4.210249900817871,
          7.1353068351745605,
          4.887426376342773,
          4.159183025360107,
          2.731008291244507,
          5.343026161193848,
          -8.137030601501465,
          -6.171359062194824,
          -8.958311080932617,
          -4.512632369995117,
          -9.112746238708496,
          3.0859735012054443,
          -8.613177299499512,
          -10.299568176269531,
          -6.870022296905518,
          -7.162657260894775,
          -1.1778877973556519,
          7.1534810066223145,
          -4.127095699310303,
          -7.6109137535095215,
          -4.82666540145874,
          -2.021894931793213,
          9.653020858764648,
          9.445748329162598,
          -7.868398189544678,
          3.6367828845977783,
          -4.20850944519043,
          6.2026166915893555,
          3.6892054080963135,
          8.884013175964355,
          3.023503303527832,
          -2.554083824157715,
          -4.6793293952941895,
          4.221174716949463,
          -6.6611151695251465,
          -3.7409374713897705,
          -0.023515721783041954,
          -7.164799213409424,
          -7.696540832519531,
          -7.784443378448486,
          -10.660476684570312,
          6.212986469268799,
          -1.162916898727417,
          5.934430122375488,
          8.134543418884277,
          4.19053316116333,
          -4.67067289352417,
          8.40268325805664,
          -9.86373233795166,
          8.915911674499512,
          3.3655776977539062,
          7.170429229736328,
          2.943361282348633,
          -10.243942260742188,
          2.8857805728912354,
          9.75037956237793,
          -6.527439594268799,
          2.905766487121582,
          -1.523045539855957,
          -3.7779393196105957,
          -3.4241294860839844,
          5.187443733215332,
          5.719603538513184,
          5.170447826385498,
          -10.350496292114258,
          -7.089879035949707,
          -0.7163389921188354,
          7.896877765655518,
          -6.137837886810303,
          4.507035732269287,
          2.657100200653076,
          -1.162916898727417,
          -1.523045539855957,
          -10.879908561706543,
          7.423680782318115,
          6.491771221160889,
          8.232882499694824,
          6.937235355377197,
          4.750739574432373,
          6.118227005004883,
          -10.123409271240234
         ],
         "y": [
          0.15864640474319458,
          -5.274914741516113,
          -6.8136372566223145,
          1.0736827850341797,
          -6.462094783782959,
          6.8857221603393555,
          -5.727532863616943,
          -6.636991500854492,
          -8.093413352966309,
          -7.900264739990234,
          -7.000612735748291,
          9.887600898742676,
          4.040226459503174,
          -5.396784782409668,
          2.968987226486206,
          8.216551780700684,
          3.3207287788391113,
          -4.393836498260498,
          1.6098684072494507,
          1.5897932052612305,
          8.16141414642334,
          -6.760083198547363,
          -5.249027729034424,
          -6.1507439613342285,
          -5.245631217956543,
          1.6098684072494507,
          -7.876008987426758,
          1.6098684072494507,
          1.6098684072494507,
          -5.040716648101807,
          9.461247444152832,
          -4.000816822052002,
          3.351602792739868,
          1.6098684072494507,
          9.366931915283203,
          -7.754162311553955,
          -7.522174835205078,
          9.222555160522461,
          -5.1062798500061035,
          -4.699910640716553,
          -0.554192304611206,
          1.6098684072494507,
          1.7987254858016968,
          -7.284933567047119,
          -7.692441940307617,
          4.229116916656494,
          6.532527446746826,
          1.7064738273620605,
          -6.186679363250732,
          -8.58858871459961,
          -7.947290420532227,
          3.351602792739868,
          5.804426193237305,
          1.7156399488449097,
          5.692780017852783,
          6.285113334655762,
          -6.136359214782715,
          2.947017192840576,
          9.869781494140625,
          8.335240364074707,
          -0.21484480798244476,
          4.712534427642822,
          -7.468980312347412,
          -7.321929454803467,
          8.482487678527832,
          -7.412223815917969,
          7.418266773223877,
          1.7987254858016968,
          0.9229248762130737,
          -0.35769540071487427,
          7.646919250488281,
          -5.77617883682251,
          1.6098684072494507,
          5.9449872970581055,
          -5.99436092376709,
          -5.979732036590576,
          -6.882575511932373,
          -5.008162498474121,
          10.603052139282227,
          5.26485013961792,
          0.9614139199256897,
          1.6098684072494507,
          -6.271880626678467,
          8.345163345336914,
          -1.7127279043197632,
          7.694890022277832,
          1.759985089302063,
          1.7987254858016968,
          -7.818216800689697,
          -1.7127279043197632,
          1.7654614448547363,
          8.867077827453613,
          1.43484365940094,
          -6.838825702667236,
          -0.5730539560317993,
          2.2846179008483887,
          -6.118499755859375,
          -4.807739734649658,
          7.747254848480225,
          7.157963752746582,
          1.2757158279418945,
          5.459444522857666,
          1.0920681953430176,
          9.138827323913574,
          1.7987254858016968,
          7.02592134475708,
          1.8507310152053833,
          -6.742694854736328,
          3.351602554321289,
          -0.5497428774833679,
          -6.479055881500244,
          -7.275113105773926,
          4.291814804077148,
          0.8833860158920288,
          8.577872276306152,
          1.3987659215927124,
          -5.832494735717773,
          6.2992095947265625,
          -6.489041805267334,
          -5.798482894897461,
          9.084742546081543,
          5.263540744781494,
          4.092377185821533,
          2.3977105617523193,
          7.512357711791992,
          -9.135337829589844,
          -8.07707405090332,
          -6.208167552947998,
          -4.739626407623291,
          -9.164514541625977,
          -0.6044297218322754,
          -7.181528091430664,
          -6.189765930175781,
          -7.342567443847656,
          -7.69303560256958,
          4.291814804077148,
          6.947688579559326,
          -5.228116035461426,
          -9.403755187988281,
          -4.68046236038208,
          -7.905112266540527,
          11.080120086669922,
          5.941614151000977,
          -5.964991092681885,
          0.5101375579833984,
          -7.6757893562316895,
          3.1590523719787598,
          0.6905204653739929,
          9.764811515808105,
          2.369088649749756,
          -4.625152111053467,
          -6.672790050506592,
          7.379884243011475,
          -7.736231327056885,
          -6.541468143463135,
          1.6456538438796997,
          -7.818420886993408,
          -5.375983715057373,
          -5.154094219207764,
          -6.742061138153076,
          5.802042484283447,
          4.338519096374512,
          6.051394462585449,
          7.8819169998168945,
          0.398568332195282,
          -6.208236217498779,
          10.270633697509766,
          -8.218204498291016,
          7.410972595214844,
          5.5976176261901855,
          8.873685836791992,
          3.542663335800171,
          -6.182700157165527,
          2.8017516136169434,
          7.674360752105713,
          -7.861339092254639,
          4.3232035636901855,
          1.0920681953430176,
          -6.607409477233887,
          -7.955379486083984,
          6.368940830230713,
          4.811896324157715,
          4.279580593109131,
          -7.483979225158691,
          -3.96974778175354,
          1.2476366758346558,
          5.712230205535889,
          -6.319958686828613,
          4.201447010040283,
          0.39119839668273926,
          4.338519096374512,
          1.0920681953430176,
          -4.392827033996582,
          2.9177000522613525,
          6.596917152404785,
          8.486489295959473,
          7.280875205993652,
          4.9301838874816895,
          1.5769630670547485,
          -4.070979118347168
         ],
         "z": [
          0.4919978380203247,
          -0.5271298289299011,
          -1.0132579803466797,
          1.5923545360565186,
          2.927171230316162,
          -0.614835262298584,
          -0.8823915123939514,
          0.05950210243463516,
          -0.583308756351471,
          -1.798383116722107,
          3.2578518390655518,
          -0.03362185135483742,
          -0.9515804052352905,
          -0.3382134735584259,
          -2.1495211124420166,
          -2.154148817062378,
          -2.259223222732544,
          0.22432348132133484,
          5.788063049316406,
          -4.886020183563232,
          -0.19047050178050995,
          -0.20919285714626312,
          -0.5665653944015503,
          0.37227264046669006,
          1.1826430559158325,
          5.788063049316406,
          2.4271130561828613,
          5.788063049316406,
          5.788063049316406,
          3.04892635345459,
          -0.7640178799629211,
          0.3121476471424103,
          2.470146894454956,
          5.788063049316406,
          -2.6288087368011475,
          -0.9850488901138306,
          1.4940005540847778,
          -0.9704789519309998,
          0.35585904121398926,
          -0.41575542092323303,
          -3.0960402488708496,
          5.788063049316406,
          0.26551559567451477,
          2.466428279876709,
          2.5163488388061523,
          -0.6557204127311707,
          -0.694824755191803,
          -2.2188663482666016,
          0.5601646304130554,
          0.6496651768684387,
          2.858154296875,
          2.470146894454956,
          -1.130923867225647,
          -2.1006033420562744,
          -1.0495593547821045,
          -1.2790085077285767,
          1.7852656841278076,
          -0.4711202383041382,
          -0.7114576101303101,
          -3.945302963256836,
          0.6494995951652527,
          -2.9261581897735596,
          2.666760206222534,
          2.2895302772521973,
          -1.7222095727920532,
          0.2538224458694458,
          -3.7269504070281982,
          0.26551562547683716,
          -4.921457767486572,
          -3.2393076419830322,
          -2.4054946899414062,
          1.997449517250061,
          5.788063049316406,
          0.32101768255233765,
          4.557949066162109,
          0.5630078315734863,
          1.3022775650024414,
          1.8973253965377808,
          -1.995764136314392,
          -3.150235652923584,
          -0.23697304725646973,
          5.788063049316406,
          2.1430141925811768,
          -2.6521172523498535,
          -0.8858722448348999,
          -1.6943317651748657,
          -0.9894862174987793,
          0.26551559567451477,
          2.5358684062957764,
          -0.8858722448348999,
          -1.1088601350784302,
          0.7570338249206543,
          -4.104367733001709,
          -1.2892706394195557,
          0.9951181411743164,
          -0.9073278307914734,
          0.01592816784977913,
          -0.07510775327682495,
          -1.2568999528884888,
          0.625518262386322,
          -4.618738651275635,
          0.5506566166877747,
          6.221188068389893,
          -1.1151833534240723,
          0.26551559567451477,
          -2.7614481449127197,
          -1.8616409301757812,
          3.551257371902466,
          2.470093011856079,
          -3.109671115875244,
          -0.9507741332054138,
          1.6905958652496338,
          -0.7532941699028015,
          0.647429347038269,
          -1.5491509437561035,
          -4.156635284423828,
          0.4895382225513458,
          -3.071955442428589,
          3.5323326587677,
          3.342679262161255,
          -2.3757641315460205,
          -1.3993961811065674,
          -1.441216230392456,
          -1.725792407989502,
          0.14438052475452423,
          1.1167837381362915,
          0.8281995058059692,
          0.2105867564678192,
          0.840358316898346,
          -0.22470025718212128,
          1.2162787914276123,
          1.396539568901062,
          2.131979465484619,
          1.878542184829712,
          3.316927909851074,
          -0.7532941699028015,
          -1.6488816738128662,
          0.9621323347091675,
          1.4069147109985352,
          -1.2910501956939697,
          3.181417465209961,
          -1.4460889101028442,
          -2.0717453956604004,
          4.582337856292725,
          1.7033411264419556,
          1.0618085861206055,
          -0.8723857402801514,
          1.7320188283920288,
          -1.1287051439285278,
          -1.9525572061538696,
          -0.45762673020362854,
          -0.2562972605228424,
          -1.1872302293777466,
          0.85125732421875,
          4.07867956161499,
          -3.4503908157348633,
          -1.0116467475891113,
          -0.7726618051528931,
          1.2046386003494263,
          -1.3348362445831299,
          -1.0672377347946167,
          -0.5923802852630615,
          -2.844255208969116,
          -1.1027328968048096,
          0.8414924740791321,
          2.2749154567718506,
          -0.19068413972854614,
          1.2277268171310425,
          -2.242694854736328,
          -1.416058897972107,
          0.10140352696180344,
          -1.5113738775253296,
          2.047790765762329,
          -0.6834786534309387,
          -0.16894303262233734,
          3.1622865200042725,
          -0.6416776776313782,
          6.221188068389893,
          1.2554500102996826,
          3.392212390899658,
          -1.7818695306777954,
          -1.8369381427764893,
          -3.4326767921447754,
          0.3256204426288605,
          0.8056415915489197,
          -4.652069091796875,
          0.7862560749053955,
          -1.4486298561096191,
          -0.4550006687641144,
          0.42173609137535095,
          -0.5923802852630615,
          6.221188068389893,
          0.08819259703159332,
          -0.9249541163444519,
          -1.3295650482177734,
          -1.1225939989089966,
          -1.2526036500930786,
          -1.8684923648834229,
          -1.100961446762085,
          0.39310944080352783
         ]
        }
       ],
       "layout": {
        "height": 800,
        "margin": {
         "b": 0,
         "l": 0,
         "r": 0,
         "t": 0
        },
        "width": 1000,
        "xaxis": {
         "zeroline": false
        },
        "yaxis": {
         "zeroline": false
        }
       }
      },
      "text/html": [
       "<div>\n",
       "        \n",
       "        \n",
       "            <div id=\"2c160e94-5913-489f-9d4a-b798bb70a772\" class=\"plotly-graph-div\" style=\"height:800px; width:1000px;\"></div>\n",
       "            <script type=\"text/javascript\">\n",
       "                require([\"plotly\"], function(Plotly) {\n",
       "                    window.PLOTLYENV=window.PLOTLYENV || {};\n",
       "                    window.PLOTLYENV.BASE_URL='https://plot.ly';\n",
       "                    \n",
       "                if (document.getElementById(\"2c160e94-5913-489f-9d4a-b798bb70a772\")) {\n",
       "                    Plotly.newPlot(\n",
       "                        '2c160e94-5913-489f-9d4a-b798bb70a772',\n",
       "                        [{\"hoverinfo\": \"text\", \"marker\": {\"line\": {\"color\": \"rgb(225, 225, 225)\", \"width\": 0.5}, \"opacity\": 1, \"size\": 6}, \"mode\": \"markers\", \"text\": [\"Stellungnahme von Verband der Automobilindustrie e.V zu Entwurf eines Gesetzes zur \\u00c4nderung der Bestimmungen zur Stromerzeugung aus Kraft-W\\u00e4rme-Kopplung und zur Eigenversorgung\", \"Kontrollbericht zu April, Berlin\", \"Kontrollbericht zu McDonald's, Flensburg\", \"Stellungnahme von Verein der Rechtspfleger im Bundesdienst e.V. (VRB) zu Gesetz zur Einf\\u00fchrung einer Speicherpflicht und einer H\\u00f6chstspeicherfrist f\\u00fcr Verkehrsdaten\", \"Kontrollbericht zu caffetteria bar giuseppe, Kolbermoor\", \"Zwangsvollstreckungen in Sachen Rundfunkbeitrag\", \"Kontrollbericht zu D\\u00f6ner, Konstanz\", \"Kontrollbericht zu Pizzeria Waller Express, Aurich\", \"Kontrollbericht zu Pizzeria Napoli, Gladenbach\", \"Kontrollbericht zu Pizzeria Trattoria La Lucina, Duisburg\", \"Kontrollbericht zu Genie\\u00dfer Stube, Friedland\", \"Wie hoch ist die Quote der nachfolge Massnahmen bei deine Bewerbungs Check\", \"WD 3 - 235/11 \\u2013 Modellprojekt zur optionalen Auszahlung eines Grundeinkommens anstelle der Leistungen der K\\u00fcnstlersozialversicherung\", \"Kontrollbericht zu Pasta e Olio, W\\u00fcrzburg\", \"Kosten der neuen Internetseite \", \"Verweise an der Graf-Stauffenberg-Wirtschaftsschule\", \"Jobcenter Prignitz: \\u00dcbersichtsliste aller Gesch\\u00e4ftsanweisungen, Leitf\\u00e4den, Arbeitshilfen und Informationen\", \"Kontrollbericht zu Agni, Berlin\", \"Stellungnahme des BfR zur IARC- Monographie \\u00fcber Glyphosat\", \"Abitur-Aufgaben im Fach Chemie im Jahr 2016 in Sachsen-Anhalt\", \"Brief von BM Seehofer an EU-Kommission zu Brexit\", \"Kontrollbericht zu Mensen und Cafeterien (Studentenwerk Oldenburg), Oldenburg\", \"Kontrollbericht zu Big Boost Burger, Dortmund\", \"Kontrollbericht zu Gasthaus Silberwald, Neu-Ulm\", \"Kontrollbericht zu An Nam, Leipzig\", \"Stellungnahme des BfR zur IARC- Monographie \\u00fcber Glyphosat\", \"Kontrollbericht zu Lidl, Obersulm\", \"Stellungnahme des BfR zur IARC- Monographie \\u00fcber Glyphosat\", \"Stellungnahme des BfR zur IARC- Monographie \\u00fcber Glyphosat\", \"Kontrollbericht zu Haus Windelen, H\\u00fcckelhoven\", \"Visum\", \"Kontrollbericht zu Taverna Ousia, Berlin\", \"Sicherheitsaudits des Projekts \\\"Sichere Implementierung einer allgemeinen Kryptobibliothek\\\"\", \"Stellungnahme des BfR zur IARC- Monographie \\u00fcber Glyphosat\", \"Eink\\u00e4ufe aus dem \\\"Online-Shop der Werbe- und Sympathiekampagne\\\"\", \"Kontrollbericht zu Pizzeria Dilo, Witten\", \"Kontrollbericht zu Mamma mia, Papenburg\", \"Korrosionsschutztechnische Begutachtung Therme\", \"Kontrollbericht zu Anadolu Gastronomie GmbH\", \"Kontrollbericht zu REWE, Esslingen am Neckar\", \"Zielvereinbarung mit der Bundesagentur f\\u00fcr Arbeit - Jobcenter Landkreis Landshut\", \"Stellungnahme des BfR zur IARC- Monographie \\u00fcber Glyphosat\", \"Informationen zu Abendessen mit Herrn Ackermann im April 2008\", \"Kontrollbericht zu Osteria Luce, Peine\", \"Kontrollbericht zu Zilan Kebaphaus, Joachimsthal\", \"Gutachten \\\"Rechtsfragen im Kontext der Abgeordnetenkorruption\\\"\", \"Verbaute Typen, Orte und Auswertungsarten von Video\\u00fcberwachungskameras in der neuen Universit\\u00e4tsbibliothek\", \"UIG-Anfrage: \\u00dcbersicht von Umweltinformationen\", \"Kontrollbericht zu Der Grieche, Minden\", \"Kontrollbericht zu Tai Ping China Restaurant\", \"Kontrollbericht zu Harzer Schnitzelk\\u00f6nig, Langelsheim\", \"Sicherheitsaudits des Projekts \\\"Sichere Implementierung einer allgemeinen Kryptobibliothek\\\"\", \"PE 6 - 171/14 \\u2013 M\\u00f6glichkeiten eines Opt-Outs einzelner EU-Mitgliedstaaten...\", \"\\u00dcbersicht \\u00fcber Umweltinformationen \\u00fcber Emissionen in die Umwelt\", \"T\\u00e4tigkeit von Herrn B\\u00fcrgermeister Otto als Kommunalbeirat der RWE\", \"\\u201eAusarbeitung\\u201c der Wissenschaftlichen Dienste des Bundestages zur Fl\\u00fcchtlingspolitik der gro\\u00dfen Koalition.\", \"Kontrollbericht zu Goldene Krone, Darmstadt\", \"WD 3 - 340/07 \\u2013 Zur Ber\\u00fccksichtigung der Wahlbeteiligung bei der Feststellung des Wahlergebnisses\", \"ABE f\\u00fcr MOMO Lenkrad Typ BL 37 KBA Nr 70099\", \"\\u00dcbersicht von Tagesordnungen der Innenministerkonferenz\", \"Stellungnahme von F\\u00f6rderverein freie Netzwerke e.V. zu Entwurf eines Gesetzes zur \\u00c4nderung des Telemediengesetzes (Klarstellung WLAN-Haftung)\", \"Statistiken der Website-Aufrufe\", \"Kontrollbericht zu Altes Brauhaus zur Nette, Neuwied\", \"Kontrollbericht zu Der Pommesbauer, Oberhausen\", \"Telefonlisten des Jobcenters Rhein-Sieg\", \"Kontrollbericht zu Wimmer, M\\u00fcnchen\", \"Terminkalender der nicht \\u00f6ffentlichen Termine/nicht presse\\u00f6ffentlichen Termine des Bundespr\\u00e4sidenten in der letzten Zeit/in den letzten Jahren\", \"Informationen zu Abendessen mit Herrn Ackermann im April 2008\", \"Abitur-Aufgaben im Fach Geographie im Jahr 2010 in Berlin und Brandenburg\", \"Weisungen des Jobcenters - Jobcenter Eisenach\", \"Antrag nach dem LIFG, LUIG, VIG / Energieverbrauch\", \"Kontrollbericht zu Die Metz Bistro & Brasserie, Blieskastel\", \"Stellungnahme des BfR zur IARC- Monographie \\u00fcber Glyphosat\", \"Stiftungs- und Industriekooperationen an der Universit\\u00e4t Rostock\", \"Kontrollbericht zu KHH S\\u00fcllberg\", \"Kontrollbericht zu Buffethaus, Kiel\", \"Kontrollbericht zu Landwirtschaft mit Hofverkauf Bersch, R\\u00fcsselsheim am Main\", \"Kontrollbericht zu Olympia, B\\u00fcnde\", \"500-\\u20ac-Banknote\", \"Datenbank gestohlene Fahrr\\u00e4der\", \"Referentenentwurf - Entwurf eines Gesetzes zum Vorschlag f\\u00fcr eine Verordnung des Rates \\u00fcber das  Programm &quot;Europa f\\u00fcr B\\u00fcrgerinnen und B\\u00fcrger&quot; f\\u00fcr den Zeitraum 2014-2020\", \"Stellungnahme des BfR zur IARC- Monographie \\u00fcber Glyphosat\", \"Kontrollbericht zu Edeka Gr\\u00fcmmer, Boostedt\", \"Instandhaltungskosten Beleuchtungsanlagen\", \"Studie \\\"zu den Political Net Activists\\\" des Instituts f\\u00fcr Demoskopie in Allensbach\", \"Informationen \\u00fcber den Bergbau aus Mexiko\", \"WD 3 - 173/13 \\u2013 Minderheitsregierung\", \"Informationen zu Abendessen mit Herrn Ackermann im April 2008\", \"Kontrollbericht zu Mahagoni, Kirchseeon\", \"Studie \\\"zu den Political Net Activists\\\" des Instituts f\\u00fcr Demoskopie in Allensbach\", \"WD 3 - 217/14 \\u2013 Behandlung unbegleiteter minderj\\u00e4hriger Fl\\u00fcchtlinge - Rechtslage und Verfahrenspraxis in Deutschland\", \"hinterlegte Ratifikationsurkunde der DDR zur UN- Kinderrechtskonvention von 1990\", \"Abitur-Aufgaben im Fach Biologie im Jahr 2013 in Nordrhein-Westfalen\", \"Kontrollbericht zu Metzgerei Ergenzinger, Stuttgart\", \"Stellungnahme von Verband der Bahnindustrie in Deutschland e.V. (VDB) zu Drittes Gesetz zur \\u00c4nderung des Bundesschienenwegeausbaugesetzes\", \"WD 7 - 300/11 \\u2013 Zweitverwertungsrechte bei wissenschaftlichen Werken\", \"Kontrollbericht zu Extrablatt, Mainz\", \"Kontrollbericht zu Ristorante Ferris, Berlin\", \"IS Terrorismusfinanzierung durch Bank of New York Mellon, Frankfurt am Main / New York \\u00fcber ihre Beteiligungsgesellschaft Capital Bank of Jordan\", \"tempor\\u00e4re Bedarfsgemeinschaft SGB XII wie bei SGB II?\", \"Abitur-Aufgaben im Fach Geschichte im Jahr 2015 in Nordrhein-Westfalen\", \"Monitoring der Systeme des BSI\", \"Stellungnahme des BfR zur IARC- Monographie \\u00fcber Glyphosat\", \"F\\u00f6rderung der Falling Walls Konferenz durch das BMBF\", \"Informationen zu Abendessen mit Herrn Ackermann im April 2008\", \"Standortbescheinigung\", \"Gutachten zu Umweltauswirkungen Fracking\", \"Kontrollbericht zu umoya, Annweiler am Trifels\", \"Sicherheitsaudits des Projekts \\\"Sichere Implementierung einer allgemeinen Kryptobibliothek\\\"\", \"Zielvereinbarung mit der Bundesagentur f\\u00fcr Arbeit - Jobcenter Charlottenburg-Wilmersdorf\", \"Kontrollbericht zu Miss Vietnam, N\\u00fcrnberg\", \"Kontrollbericht zu Donner, Leinfelden-Echterdingen\", \"Gutachten \\\"Rechtsfragen im Kontext der Abgeordnetenkorruption\\\"\", \"Stellungnahme von ZVEI - Zentralverband Elektrotechnik und Elektroindustrie e.V. zu Entwurf eines Gesetzes zur Erh\\u00f6hung der Sicherheit informationstechnischer Systeme (IT-Sicherheitsgesetz)\", \"Breitbandausbau Otterberg\", \"Abitur-Aufgaben im Fach Geographie im Jahr 2018 in Nordrhein-Westfalen\", \"Kontrollbericht zu Villa Rustica Ristorante Italiano\", \"Vorlage zum Sponsoringbericht der Bundesregierung\", \"Kontrollbericht zu Zum R\\u00f6mer, Gau-Odernheim\", \"Kontrollbericht zu Kebabhaus, Nettetal\", \"Unterlagen zur Entlassung von StS Andrej Holm\", \"Europ\\u00e4isches Verwaltungsrecht - grenz\\u00fcberschreitender Rechtsschutz - Art. 47 Charta der Grundrechte\", \"Aktenverzeichnis und IFG \\u00a711 - Bundesministerium f\\u00fcr Arbeit und Soziales (Bund)\", \"erfolgte Funkzellenabfragen im Rahmen des G20 Treffens\", \"Kunstwerke im Bestand\", \"Kontrollbericht zu Restaurant bei Nino\", \"Kontrollbericht zu Lohmann, Kassel\", \"Kontrollbericht zu Ratskeller, Oldenburg\", \"Kontrollbericht zu Imbiss Diwan, Mainz\", \"Kontrollbericht zu Muckensee Caf\\u00e9, Restaurant, Hotel, Lorch\", \"Stellungnahme von Bundesverband \\u00f6ffentlich bestellter und vereidigter sowie qualifizierter Sachverst\\u00e4ndiger e. V. zu BauGB-Novelle 2016\", \"Kontrollbericht zu S\\u00fcleymann, Gie\\u00dfen\", \"Kontrollbericht zu Athena, K\\u00f6ln\", \"Kontrollbericht zu Schweinske, Norderstedt\", \"Kontrollbericht zu Seegartl, Emmering\", \"Gutachten \\\"Rechtsfragen im Kontext der Abgeordnetenkorruption\\\"\", \"Freiberufliche Honorarkr\\u00e4fte im Bundestag - Sozialleistungsmissbrauch durch die Bundestagsverwaltung?\", \"Kontrollbericht zu Mex. Imbiss El Amigo, Viernheim\", \"Kontrollbericht zu vierG Restaurant, Wathlingen\", \"Kontrollbericht zu Coffee Fellows, Ulm\", \"Kontrollbericht zu Wirtshaus Fl\\u00f6\\u00dferei, Wolfratshausen\", \"Terminkalender des Bundesministers\", \"\\u00dcbersicht der Kommentare zur Brandenburger Gesetzgebung\", \"Kontrollbericht zu Stadtcaf\\u00e9 Ottensen, Hamburg\", \"Stellungnahme von Sozialverband Deutschland zu Gesetz zur Einf\\u00fchrung einer Speicherpflicht und einer H\\u00f6chstspeicherfrist f\\u00fcr Verkehrsdaten\", \"Kontrollbericht zu China Chan, Ergolding\", \"WD 4 - 024/06 \\u2013 \\u00d6kologische Steuerreform in Deutschland: Umsetzung, Pro und Contra, Konzepte. \\u00d6kosteuern in Europa\", \"Stellungnahme von ver.di zu Gesetz zur Einf\\u00fchrung einer Speicherpflicht und einer H\\u00f6chstspeicherfrist f\\u00fcr Verkehrsdaten\", \"Anerkennung von Studienleistungen/Pr\\u00fcfungsleistungen aus \\u00d6sterreich\", \"Marktplatzsanierung\", \"Eine Liste aller Betriebe, die nach \\u00a7 26 und \\u00a7 28 BImSchG Emissionsmessungen durchf\\u00fchren lassen m\\u00fcssen\", \"Kontrollbericht zu La Bastille, Saarbr\\u00fccken\", \"Ermittlungen gegen Zentrum f\\u00fcr Politische Sch\\u00f6nheit\", \"Kontrollbericht zu Kaiser Garden, Kassel\", \"Kontrollbericht zu Geschmacksb\\u00e4cker Maser, Bempflingen\", \"Abituraufgabe NRW Mathematik 2018\", \"Kontrollbericht zu Pizzeria Capello Rosso, Essen\", \"Kontrollbericht zu Ziegelstrasse D\\u00f6ner, L\\u00fcbeck\", \"Kontrollbericht zu Ginseng, Leipzig\", \"Kontrollbericht zu Edeka Tschoepe, D\\u00fcsseldorf\", \"Deutscher Bundestag: 2013-08-28 WD-Gutachten Schutz vor Verhaftung von Zeugen vor einem Untersuchungsausschuss\", \"Gutachten \\\"Rechtsfragen im Kontext der Abgeordnetenkorruption\\\"\", \"Radwege\", \"historische Dokumente Beweissicherungs- und Dokumentationskr\\u00e4fte\", \"Stellungnahme von Arbeitsgemeinschaft Offshore-Windenergie e.V. zu Entwurf eines Gesetzes zur Weiterentwicklung des Strommarktes (StrommarktG)\", \"Kontrollbericht zu Zur Mainpfanne, Hanau\", \"Quellcode Software \\\"Wahlkreisauswertung\\\"\", \"Kontrollbericht zu mendo grill, Bad Oldesloe\", \"Gesamtrekultivierungsplan\", \"Jahresabschluss 2014\", \"Wasserversorgungskonzepte: Sachstand\", \"Ungenehmigte Baumf\\u00e4llungen\", \"Kontrollbericht zu Vapiano, K\\u00f6ln\", \"Verbleibszahen zu nicht beschulten schulpflichtigen Menschen im Schuljahr 2017/2018\", \"Besucherzahlen in Hamburger Museen\", \"Kontrollbericht zu Bowlingbahn, Sondershausen\", \"Anfrage gem\\u00e4\\u00df IFG NRW Disziplinarma\\u00dfnahmen Lehrer u. andere Angestellte\", \"Stellungnahme des BfR zur IARC- Monographie \\u00fcber Glyphosat\", \"Kontrollbericht zu Marmaris D\\u00fcr\\u00fcm, Dresden\", \"Kontrollbericht zu Rosengarten, Oschersleben (Bode)\", \"Informationen zum \\\"Gemeinsamen Kompetenz- und Dienstleistungszentrum\\u201c (GKDZ) zur Telekommunikations\\u00fcberwachung\", \"\\u00d6ffentlicher Schl\\u00fcssel\", \"Interne Weisungen Ausl\\u00e4nderbeh\\u00f6rde Bad Kreuznach\", \"Kontrollbericht zu Xin Yun, M\\u00fcnchen\", \"Kontrollbericht zu Al Terrazzino, Frankfurt am Main\", \"Abitur-Aufgaben im Fach Geographie im Jahr 2012 in Nordrhein-Westfalen\", \"Breitband-Internetanschluss an Schulen\", \"Kontrollbericht zu Divakebap, N\\u00fcrnberg\", \"Regelung sachliche und \\u00f6rtliche Zust\\u00e4ndigkeit der Bundestagspolizei\", \"Stellungnahme zur \\u00c4nderung der EuWG\", \"Gutachten \\\"Rechtsfragen im Kontext der Abgeordnetenkorruption\\\"\", \"Stellungnahme des BfR zur IARC- Monographie \\u00fcber Glyphosat\", \"Kontrollbericht zu Thai-China-Imbiss, Berlin\", \"WD 11 - 121/11 \\u2013 Der Ankauf von Staatsanleihen durch die Europ\\u00e4ische Zentralbank\", \"Anfrage zur Unterrichtungspflicht von Kommunalparlamenten\", \"terrestrisches Ortungssystem auf 243 MHz und 121.5 MHz #2\", \"Serologischer Nachweis von Borrelien/ Meldepflicht\", \"Herausgabe der internen Weisungen / Arbeitsanweisungen zur Kosten\\u00fcbernahme nach \\u00a7 31 Abs. 6 SGB V (Cannabis)\", \"WD 3 - 404/08 \\u2013 Aufstellung von Listenkandidaten einer Partei\", \"Kontrollbericht zu Netto Marken-Discount, Berlin\"], \"type\": \"scatter3d\", \"uid\": \"ff50ee5f-3a81-432d-85df-198a07cf62de\", \"x\": [3.5714023113250732, -11.430038452148438, -8.357851028442383, 3.865046739578247, -6.886973857879639, 6.574785232543945, -8.454387664794922, -3.658902883529663, -8.061716079711914, -8.149409294128418, -2.2209463119506836, 10.1176176071167, 7.549763202667236, -3.5486292839050293, 1.5434613227844238, 7.748147010803223, 4.1282877922058105, -10.494401931762695, -2.3424839973449707, -0.9655086994171143, 8.255820274353027, -1.9592454433441162, -4.108214378356934, -5.955902576446533, -7.761526107788086, -2.3424839973449707, -5.655768871307373, -2.3424839973449707, -2.3424839973449707, -6.573143005371094, 5.677213668823242, -10.092801094055176, 1.7419142723083496, -2.3424839973449707, 9.274566650390625, -6.626175403594971, -2.4087133407592773, 9.820058822631836, -5.5694122314453125, -5.964369773864746, 4.2656168937683105, -2.3424839973449707, 0.16202302277088165, -3.376394748687744, -4.547328472137451, -1.2851343154907227, 8.553398132324219, 2.5906713008880615, -6.80518913269043, -8.82363224029541, -3.1819655895233154, 1.7419142723083496, 7.361446380615234, 2.3857979774475098, 4.390354156494141, 6.098174571990967, -5.2650465965271, 7.063732624053955, 9.43833065032959, 7.728996276855469, 3.9664394855499268, 3.1561193466186523, -1.6171122789382935, -7.551920413970947, 9.043237686157227, -10.433345794677734, 6.281393527984619, 0.16202303767204285, -0.2579815685749054, 3.659306049346924, 6.84525203704834, -2.8043136596679688, -2.3424839973449707, 4.532413005828857, -7.940977573394775, -6.801695346832275, -1.8372904062271118, -9.209136962890625, 7.7221150398254395, 7.624178886413574, 3.9212381839752197, -2.3424839973449707, -3.179642677307129, 5.656383037567139, -0.1709129363298416, 6.08024787902832, 6.906872272491455, 0.16202302277088165, -4.875046730041504, -0.1709129363298416, 5.41992712020874, 8.888134956359863, -0.40154504776000977, -10.702223777770996, 3.8416788578033447, 7.2825703620910645, -9.087505340576172, -10.908879280090332, 7.55061149597168, 6.913736343383789, -0.8789663910865784, 6.159602642059326, -1.523045539855957, 7.46734094619751, 0.16202302277088165, 7.628828525543213, 2.679722309112549, -4.474207878112793, 1.7416276931762695, 4.23272180557251, -5.1118855476379395, -8.045575141906738, -1.1778877973556519, 3.9647953510284424, 10.680755615234375, -0.3861815631389618, -2.9585187435150146, 4.024835586547852, -5.2508978843688965, -4.210249900817871, 7.1353068351745605, 4.887426376342773, 4.159183025360107, 2.731008291244507, 5.343026161193848, -8.137030601501465, -6.171359062194824, -8.958311080932617, -4.512632369995117, -9.112746238708496, 3.0859735012054443, -8.613177299499512, -10.299568176269531, -6.870022296905518, -7.162657260894775, -1.1778877973556519, 7.1534810066223145, -4.127095699310303, -7.6109137535095215, -4.82666540145874, -2.021894931793213, 9.653020858764648, 9.445748329162598, -7.868398189544678, 3.6367828845977783, -4.20850944519043, 6.2026166915893555, 3.6892054080963135, 8.884013175964355, 3.023503303527832, -2.554083824157715, -4.6793293952941895, 4.221174716949463, -6.6611151695251465, -3.7409374713897705, -0.023515721783041954, -7.164799213409424, -7.696540832519531, -7.784443378448486, -10.660476684570312, 6.212986469268799, -1.162916898727417, 5.934430122375488, 8.134543418884277, 4.19053316116333, -4.67067289352417, 8.40268325805664, -9.86373233795166, 8.915911674499512, 3.3655776977539062, 7.170429229736328, 2.943361282348633, -10.243942260742188, 2.8857805728912354, 9.75037956237793, -6.527439594268799, 2.905766487121582, -1.523045539855957, -3.7779393196105957, -3.4241294860839844, 5.187443733215332, 5.719603538513184, 5.170447826385498, -10.350496292114258, -7.089879035949707, -0.7163389921188354, 7.896877765655518, -6.137837886810303, 4.507035732269287, 2.657100200653076, -1.162916898727417, -1.523045539855957, -10.879908561706543, 7.423680782318115, 6.491771221160889, 8.232882499694824, 6.937235355377197, 4.750739574432373, 6.118227005004883, -10.123409271240234], \"y\": [0.15864640474319458, -5.274914741516113, -6.8136372566223145, 1.0736827850341797, -6.462094783782959, 6.8857221603393555, -5.727532863616943, -6.636991500854492, -8.093413352966309, -7.900264739990234, -7.000612735748291, 9.887600898742676, 4.040226459503174, -5.396784782409668, 2.968987226486206, 8.216551780700684, 3.3207287788391113, -4.393836498260498, 1.6098684072494507, 1.5897932052612305, 8.16141414642334, -6.760083198547363, -5.249027729034424, -6.1507439613342285, -5.245631217956543, 1.6098684072494507, -7.876008987426758, 1.6098684072494507, 1.6098684072494507, -5.040716648101807, 9.461247444152832, -4.000816822052002, 3.351602792739868, 1.6098684072494507, 9.366931915283203, -7.754162311553955, -7.522174835205078, 9.222555160522461, -5.1062798500061035, -4.699910640716553, -0.554192304611206, 1.6098684072494507, 1.7987254858016968, -7.284933567047119, -7.692441940307617, 4.229116916656494, 6.532527446746826, 1.7064738273620605, -6.186679363250732, -8.58858871459961, -7.947290420532227, 3.351602792739868, 5.804426193237305, 1.7156399488449097, 5.692780017852783, 6.285113334655762, -6.136359214782715, 2.947017192840576, 9.869781494140625, 8.335240364074707, -0.21484480798244476, 4.712534427642822, -7.468980312347412, -7.321929454803467, 8.482487678527832, -7.412223815917969, 7.418266773223877, 1.7987254858016968, 0.9229248762130737, -0.35769540071487427, 7.646919250488281, -5.77617883682251, 1.6098684072494507, 5.9449872970581055, -5.99436092376709, -5.979732036590576, -6.882575511932373, -5.008162498474121, 10.603052139282227, 5.26485013961792, 0.9614139199256897, 1.6098684072494507, -6.271880626678467, 8.345163345336914, -1.7127279043197632, 7.694890022277832, 1.759985089302063, 1.7987254858016968, -7.818216800689697, -1.7127279043197632, 1.7654614448547363, 8.867077827453613, 1.43484365940094, -6.838825702667236, -0.5730539560317993, 2.2846179008483887, -6.118499755859375, -4.807739734649658, 7.747254848480225, 7.157963752746582, 1.2757158279418945, 5.459444522857666, 1.0920681953430176, 9.138827323913574, 1.7987254858016968, 7.02592134475708, 1.8507310152053833, -6.742694854736328, 3.351602554321289, -0.5497428774833679, -6.479055881500244, -7.275113105773926, 4.291814804077148, 0.8833860158920288, 8.577872276306152, 1.3987659215927124, -5.832494735717773, 6.2992095947265625, -6.489041805267334, -5.798482894897461, 9.084742546081543, 5.263540744781494, 4.092377185821533, 2.3977105617523193, 7.512357711791992, -9.135337829589844, -8.07707405090332, -6.208167552947998, -4.739626407623291, -9.164514541625977, -0.6044297218322754, -7.181528091430664, -6.189765930175781, -7.342567443847656, -7.69303560256958, 4.291814804077148, 6.947688579559326, -5.228116035461426, -9.403755187988281, -4.68046236038208, -7.905112266540527, 11.080120086669922, 5.941614151000977, -5.964991092681885, 0.5101375579833984, -7.6757893562316895, 3.1590523719787598, 0.6905204653739929, 9.764811515808105, 2.369088649749756, -4.625152111053467, -6.672790050506592, 7.379884243011475, -7.736231327056885, -6.541468143463135, 1.6456538438796997, -7.818420886993408, -5.375983715057373, -5.154094219207764, -6.742061138153076, 5.802042484283447, 4.338519096374512, 6.051394462585449, 7.8819169998168945, 0.398568332195282, -6.208236217498779, 10.270633697509766, -8.218204498291016, 7.410972595214844, 5.5976176261901855, 8.873685836791992, 3.542663335800171, -6.182700157165527, 2.8017516136169434, 7.674360752105713, -7.861339092254639, 4.3232035636901855, 1.0920681953430176, -6.607409477233887, -7.955379486083984, 6.368940830230713, 4.811896324157715, 4.279580593109131, -7.483979225158691, -3.96974778175354, 1.2476366758346558, 5.712230205535889, -6.319958686828613, 4.201447010040283, 0.39119839668273926, 4.338519096374512, 1.0920681953430176, -4.392827033996582, 2.9177000522613525, 6.596917152404785, 8.486489295959473, 7.280875205993652, 4.9301838874816895, 1.5769630670547485, -4.070979118347168], \"z\": [0.4919978380203247, -0.5271298289299011, -1.0132579803466797, 1.5923545360565186, 2.927171230316162, -0.614835262298584, -0.8823915123939514, 0.05950210243463516, -0.583308756351471, -1.798383116722107, 3.2578518390655518, -0.03362185135483742, -0.9515804052352905, -0.3382134735584259, -2.1495211124420166, -2.154148817062378, -2.259223222732544, 0.22432348132133484, 5.788063049316406, -4.886020183563232, -0.19047050178050995, -0.20919285714626312, -0.5665653944015503, 0.37227264046669006, 1.1826430559158325, 5.788063049316406, 2.4271130561828613, 5.788063049316406, 5.788063049316406, 3.04892635345459, -0.7640178799629211, 0.3121476471424103, 2.470146894454956, 5.788063049316406, -2.6288087368011475, -0.9850488901138306, 1.4940005540847778, -0.9704789519309998, 0.35585904121398926, -0.41575542092323303, -3.0960402488708496, 5.788063049316406, 0.26551559567451477, 2.466428279876709, 2.5163488388061523, -0.6557204127311707, -0.694824755191803, -2.2188663482666016, 0.5601646304130554, 0.6496651768684387, 2.858154296875, 2.470146894454956, -1.130923867225647, -2.1006033420562744, -1.0495593547821045, -1.2790085077285767, 1.7852656841278076, -0.4711202383041382, -0.7114576101303101, -3.945302963256836, 0.6494995951652527, -2.9261581897735596, 2.666760206222534, 2.2895302772521973, -1.7222095727920532, 0.2538224458694458, -3.7269504070281982, 0.26551562547683716, -4.921457767486572, -3.2393076419830322, -2.4054946899414062, 1.997449517250061, 5.788063049316406, 0.32101768255233765, 4.557949066162109, 0.5630078315734863, 1.3022775650024414, 1.8973253965377808, -1.995764136314392, -3.150235652923584, -0.23697304725646973, 5.788063049316406, 2.1430141925811768, -2.6521172523498535, -0.8858722448348999, -1.6943317651748657, -0.9894862174987793, 0.26551559567451477, 2.5358684062957764, -0.8858722448348999, -1.1088601350784302, 0.7570338249206543, -4.104367733001709, -1.2892706394195557, 0.9951181411743164, -0.9073278307914734, 0.01592816784977913, -0.07510775327682495, -1.2568999528884888, 0.625518262386322, -4.618738651275635, 0.5506566166877747, 6.221188068389893, -1.1151833534240723, 0.26551559567451477, -2.7614481449127197, -1.8616409301757812, 3.551257371902466, 2.470093011856079, -3.109671115875244, -0.9507741332054138, 1.6905958652496338, -0.7532941699028015, 0.647429347038269, -1.5491509437561035, -4.156635284423828, 0.4895382225513458, -3.071955442428589, 3.5323326587677, 3.342679262161255, -2.3757641315460205, -1.3993961811065674, -1.441216230392456, -1.725792407989502, 0.14438052475452423, 1.1167837381362915, 0.8281995058059692, 0.2105867564678192, 0.840358316898346, -0.22470025718212128, 1.2162787914276123, 1.396539568901062, 2.131979465484619, 1.878542184829712, 3.316927909851074, -0.7532941699028015, -1.6488816738128662, 0.9621323347091675, 1.4069147109985352, -1.2910501956939697, 3.181417465209961, -1.4460889101028442, -2.0717453956604004, 4.582337856292725, 1.7033411264419556, 1.0618085861206055, -0.8723857402801514, 1.7320188283920288, -1.1287051439285278, -1.9525572061538696, -0.45762673020362854, -0.2562972605228424, -1.1872302293777466, 0.85125732421875, 4.07867956161499, -3.4503908157348633, -1.0116467475891113, -0.7726618051528931, 1.2046386003494263, -1.3348362445831299, -1.0672377347946167, -0.5923802852630615, -2.844255208969116, -1.1027328968048096, 0.8414924740791321, 2.2749154567718506, -0.19068413972854614, 1.2277268171310425, -2.242694854736328, -1.416058897972107, 0.10140352696180344, -1.5113738775253296, 2.047790765762329, -0.6834786534309387, -0.16894303262233734, 3.1622865200042725, -0.6416776776313782, 6.221188068389893, 1.2554500102996826, 3.392212390899658, -1.7818695306777954, -1.8369381427764893, -3.4326767921447754, 0.3256204426288605, 0.8056415915489197, -4.652069091796875, 0.7862560749053955, -1.4486298561096191, -0.4550006687641144, 0.42173609137535095, -0.5923802852630615, 6.221188068389893, 0.08819259703159332, -0.9249541163444519, -1.3295650482177734, -1.1225939989089966, -1.2526036500930786, -1.8684923648834229, -1.100961446762085, 0.39310944080352783]}],\n",
       "                        {\"height\": 800, \"margin\": {\"b\": 0, \"l\": 0, \"r\": 0, \"t\": 0}, \"width\": 1000, \"xaxis\": {\"zeroline\": false}, \"yaxis\": {\"zeroline\": false}},\n",
       "                        {\"showLink\": false, \"linkText\": \"Export to plot.ly\", \"plotlyServerURL\": \"https://plot.ly\", \"responsive\": true}\n",
       "                    ).then(function(){\n",
       "                            \n",
       "var gd = document.getElementById('2c160e94-5913-489f-9d4a-b798bb70a772');\n",
       "var x = new MutationObserver(function (mutations, observer) {{\n",
       "        var display = window.getComputedStyle(gd).display;\n",
       "        if (!display || display === 'none') {{\n",
       "            console.log([gd, 'removed!']);\n",
       "            Plotly.purge(gd);\n",
       "            observer.disconnect();\n",
       "        }}\n",
       "}});\n",
       "\n",
       "// Listen for the removal of the full notebook cells\n",
       "var notebookContainer = gd.closest('#notebook-container');\n",
       "if (notebookContainer) {{\n",
       "    x.observe(notebookContainer, {childList: true});\n",
       "}}\n",
       "\n",
       "// Listen for the clearing of the current output cell\n",
       "var outputEl = gd.closest('.output');\n",
       "if (outputEl) {{\n",
       "    x.observe(outputEl, {childList: true});\n",
       "}}\n",
       "\n",
       "                        })\n",
       "                };\n",
       "                });\n",
       "            </script>\n",
       "        </div>"
      ]
     },
     "metadata": {},
     "output_type": "display_data"
    }
   ],
   "source": [
    "plotly_plot_tsne(tsne_embeddings_3d, labels_3d, dimension=3)"
   ]
  },
  {
   "cell_type": "markdown",
   "metadata": {},
   "source": [
    "Der generierte Plot sollte ungefähr folgendermaßen aussehen (statisches Bild des interaktiven Plots zur Darstellung in GitHub):\n",
    "<img src=\"Images/plotly_tsne.png\" alt=\"drawing\" width=\"1000\"/>"
   ]
  },
  {
   "cell_type": "markdown",
   "metadata": {},
   "source": [
    "# Literature\n",
    "<table>\n",
    "    <tr>\n",
    "        <td>\n",
    "            <a id=\"WED\"></a>[WED]\n",
    "        </td>\n",
    "        <td>\n",
    "The Illustrated Word2vec – Jay Alammar – Visualizing machine ....\" 27 März. 2019, http://jalammar.github.io/illustrated-word2vec/. Aufgerufen am 22 Juni. 2019.\n",
    "        </td>\n",
    "    </tr>\n",
    "</table>\n",
    "<table>\n",
    "    <tr>\n",
    "        <td>\n",
    "            <a id=\"SAM\"></a>[SAM]\n",
    "        </td>\n",
    "        <td>\n",
    "\"Word2Vec Tutorial - The Skip-Gram Model · Chris McCormick.\" 19 Apr.. 2016, http://mccormickml.com/2016/04/19/word2vec-tutorial-the-skip-gram-model/. Aufgerufen am 22 Juni. 2019.\n",
    "        </td>\n",
    "    </tr>\n",
    "</table>\n",
    "<table>\n",
    "    <tr>\n",
    "        <td>\n",
    "            <a id=\"SWS\"></a>[SWS]\n",
    "        </td>\n",
    "        <td>\n",
    "\"The Illustrated Word2vec – Jay Alammar – Visualizing machine ....\" 27 März. 2019, http://jalammar.github.io/illustrated-word2vec/. Aufgerufen am 22 Juni. 2019.\n",
    "        </td>\n",
    "    </tr>\n",
    "</table>\n",
    "<table>\n",
    "    <tr>\n",
    "        <td>\n",
    "            <a id=\"NCE\"></a>[NCE]\n",
    "        </td>\n",
    "        <td>\n",
    "\"Notes on Noise Contrastive Estimation and Negative Sampling.\" http://demo.clab.cs.cmu.edu/cdyer/nce_notes.pdf. Aufgerufen am 22 Juni. 2019.\n",
    "        </td>\n",
    "    </tr>\n",
    "</table>\n",
    "<table>\n",
    "    <tr>\n",
    "        <td>\n",
    "            <a id=\"CSM\"></a>[CSM]\n",
    "        </td>\n",
    "        <td>\n",
    "\"Cosine similarity - Wikipedia.\" https://en.wikipedia.org/wiki/Cosine_similarity. Aufgerufen am 22 Juni. 2019.\n",
    "        </td>\n",
    "    </tr>\n",
    "</table>\n",
    "<table>\n",
    "    <tr>\n",
    "        <td>\n",
    "            <a id=\"TSN\"></a>[TSN]\n",
    "        </td>\n",
    "        <td>\n",
    "\"Visualizing data using t-SNE - SlideShare.\" https://www.slideshare.net/KyeongUkJang/visualizing-data-using-tsne-149111155. Aufgerufen am 22 Juni. 2019.\n",
    "        </td>\n",
    "    </tr>\n",
    "</table>\n",
    "<table>\n",
    "    <tr>\n",
    "        <td>\n",
    "            <a id=\"TDS\"></a>[TDS]\n",
    "        </td>\n",
    "        <td>\n",
    "\"Visualizing Data using t-SNE - Journal of Machine Learning Research.\" http://www.jmlr.org/papers/volume9/vandermaaten08a/vandermaaten08a.pdf. Aufgerufen am 22 Juni. 2019.\n",
    "        </td>\n",
    "    </tr>\n",
    "</table>\n",
    "<table>\n",
    "    <tr>\n",
    "        <td>\n",
    "            <a id=\"HYP\"></a>[HYP]\n",
    "        </td>\n",
    "        <td>\n",
    "\"How to Use t-SNE Effectively - Distill.pub.\" 13 Okt.. 2016, https://distill.pub/2016/misread-tsne/. Aufgerufen am 22 Juni. 2019.\n",
    "        </td>\n",
    "    </tr>\n",
    "</table>\n",
    "\n",
    "\n",
    "\n",
    "\n"
   ]
  }
 ],
 "metadata": {
  "colab": {
   "collapsed_sections": [],
   "name": "FDS_Word2Vec.ipynb",
   "provenance": [],
   "version": "0.3.2"
  },
  "kernelspec": {
   "display_name": "fds_word2vec",
   "language": "python",
   "name": "fds_word2vec"
  },
  "language_info": {
   "codemirror_mode": {
    "name": "ipython",
    "version": 3
   },
   "file_extension": ".py",
   "mimetype": "text/x-python",
   "name": "python",
   "nbconvert_exporter": "python",
   "pygments_lexer": "ipython3",
   "version": "3.6.5"
  }
 },
 "nbformat": 4,
 "nbformat_minor": 1
}
